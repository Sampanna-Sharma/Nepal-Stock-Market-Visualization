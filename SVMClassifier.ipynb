{
 "cells": [
  {
   "cell_type": "code",
   "execution_count": 1,
   "metadata": {},
   "outputs": [],
   "source": [
    "import numpy as np\n",
    "import pandas as pd\n",
    "from sklearn.preprocessing import StandardScaler\n",
    "from sklearn.model_selection import train_test_split, GridSearchCV\n",
    "from sklearn.metrics import accuracy_score, f1_score\n",
    "from sklearn.svm import SVC\n",
    "from sklearn.svm import SVR\n",
    "import matplotlib.pyplot as plt\n",
    "import warnings\n",
    "import pickle\n",
    "from sklearn.externals import joblib\n",
    "from StockCLass import StockPredictor\n",
    "warnings.filterwarnings(\"ignore\")"
   ]
  },
  {
   "cell_type": "markdown",
   "metadata": {},
   "source": [
    "# Data Preprocessing"
   ]
  },
  {
   "cell_type": "code",
   "execution_count": 2,
   "metadata": {
    "scrolled": true
   },
   "outputs": [
    {
     "data": {
      "text/html": [
       "<div>\n",
       "<style scoped>\n",
       "    .dataframe tbody tr th:only-of-type {\n",
       "        vertical-align: middle;\n",
       "    }\n",
       "\n",
       "    .dataframe tbody tr th {\n",
       "        vertical-align: top;\n",
       "    }\n",
       "\n",
       "    .dataframe thead th {\n",
       "        text-align: right;\n",
       "    }\n",
       "</style>\n",
       "<table border=\"1\" class=\"dataframe\">\n",
       "  <thead>\n",
       "    <tr style=\"text-align: right;\">\n",
       "      <th></th>\n",
       "      <th>closing_price</th>\n",
       "      <th>news</th>\n",
       "      <th>momentum</th>\n",
       "      <th>EMA</th>\n",
       "      <th>MACD</th>\n",
       "      <th>RSI</th>\n",
       "      <th>ROI</th>\n",
       "      <th>ATR</th>\n",
       "      <th>williams</th>\n",
       "      <th>CCI</th>\n",
       "      <th>UO</th>\n",
       "    </tr>\n",
       "  </thead>\n",
       "  <tbody>\n",
       "    <tr>\n",
       "      <th>0</th>\n",
       "      <td>975.0</td>\n",
       "      <td>[[0.2306930273771286, 0.792356550693512, 0.642...</td>\n",
       "      <td>-87.0</td>\n",
       "      <td>1087.863864</td>\n",
       "      <td>-58.947313</td>\n",
       "      <td>0.149378</td>\n",
       "      <td>1.126154</td>\n",
       "      <td>106.0</td>\n",
       "      <td>0.820755</td>\n",
       "      <td>997.666667</td>\n",
       "      <td>0.154372</td>\n",
       "    </tr>\n",
       "    <tr>\n",
       "      <th>1</th>\n",
       "      <td>954.0</td>\n",
       "      <td>[[0.31689509749412537, 0.8638337850570679, 0.6...</td>\n",
       "      <td>-2.0</td>\n",
       "      <td>1067.269422</td>\n",
       "      <td>-65.253876</td>\n",
       "      <td>0.250000</td>\n",
       "      <td>1.122642</td>\n",
       "      <td>38.0</td>\n",
       "      <td>1.000000</td>\n",
       "      <td>966.666667</td>\n",
       "      <td>0.105707</td>\n",
       "    </tr>\n",
       "    <tr>\n",
       "      <th>2</th>\n",
       "      <td>917.0</td>\n",
       "      <td>[[0.31150949001312256, 0.7647785544395447, 0.6...</td>\n",
       "      <td>-75.0</td>\n",
       "      <td>1044.151049</td>\n",
       "      <td>-72.401798</td>\n",
       "      <td>0.480000</td>\n",
       "      <td>1.135878</td>\n",
       "      <td>75.0</td>\n",
       "      <td>1.000000</td>\n",
       "      <td>942.000000</td>\n",
       "      <td>0.069584</td>\n",
       "    </tr>\n",
       "    <tr>\n",
       "      <th>3</th>\n",
       "      <td>903.0</td>\n",
       "      <td>[[0.1868913620710373, 0.7952941060066223, 0.61...</td>\n",
       "      <td>-87.0</td>\n",
       "      <td>1022.435502</td>\n",
       "      <td>-78.293327</td>\n",
       "      <td>0.000000</td>\n",
       "      <td>1.120598</td>\n",
       "      <td>87.0</td>\n",
       "      <td>1.000000</td>\n",
       "      <td>932.000000</td>\n",
       "      <td>0.068895</td>\n",
       "    </tr>\n",
       "    <tr>\n",
       "      <th>4</th>\n",
       "      <td>885.0</td>\n",
       "      <td>[[0.3303453326225281, 0.8576347231864929, 0.68...</td>\n",
       "      <td>-90.0</td>\n",
       "      <td>1001.291578</td>\n",
       "      <td>-83.452392</td>\n",
       "      <td>0.000000</td>\n",
       "      <td>1.108927</td>\n",
       "      <td>90.0</td>\n",
       "      <td>1.000000</td>\n",
       "      <td>915.000000</td>\n",
       "      <td>0.108076</td>\n",
       "    </tr>\n",
       "  </tbody>\n",
       "</table>\n",
       "</div>"
      ],
      "text/plain": [
       "   closing_price                                               news  momentum  \\\n",
       "0          975.0  [[0.2306930273771286, 0.792356550693512, 0.642...     -87.0   \n",
       "1          954.0  [[0.31689509749412537, 0.8638337850570679, 0.6...      -2.0   \n",
       "2          917.0  [[0.31150949001312256, 0.7647785544395447, 0.6...     -75.0   \n",
       "3          903.0  [[0.1868913620710373, 0.7952941060066223, 0.61...     -87.0   \n",
       "4          885.0  [[0.3303453326225281, 0.8576347231864929, 0.68...     -90.0   \n",
       "\n",
       "           EMA       MACD       RSI       ROI    ATR  williams         CCI  \\\n",
       "0  1087.863864 -58.947313  0.149378  1.126154  106.0  0.820755  997.666667   \n",
       "1  1067.269422 -65.253876  0.250000  1.122642   38.0  1.000000  966.666667   \n",
       "2  1044.151049 -72.401798  0.480000  1.135878   75.0  1.000000  942.000000   \n",
       "3  1022.435502 -78.293327  0.000000  1.120598   87.0  1.000000  932.000000   \n",
       "4  1001.291578 -83.452392  0.000000  1.108927   90.0  1.000000  915.000000   \n",
       "\n",
       "         UO  \n",
       "0  0.154372  \n",
       "1  0.105707  \n",
       "2  0.069584  \n",
       "3  0.068895  \n",
       "4  0.108076  "
      ]
     },
     "execution_count": 2,
     "metadata": {},
     "output_type": "execute_result"
    }
   ],
   "source": [
    "nepse_data = pd.read_csv(\"data_set_ready_for_training.csv\")\n",
    "nepse_data.head(5)"
   ]
  },
  {
   "cell_type": "code",
   "execution_count": 3,
   "metadata": {},
   "outputs": [],
   "source": [
    "nepse_data = nepse_data.replace([np.inf, -np.inf], np.nan).dropna()"
   ]
  },
  {
   "cell_type": "code",
   "execution_count": 15,
   "metadata": {},
   "outputs": [
    {
     "data": {
      "text/html": [
       "<div>\n",
       "<style scoped>\n",
       "    .dataframe tbody tr th:only-of-type {\n",
       "        vertical-align: middle;\n",
       "    }\n",
       "\n",
       "    .dataframe tbody tr th {\n",
       "        vertical-align: top;\n",
       "    }\n",
       "\n",
       "    .dataframe thead th {\n",
       "        text-align: right;\n",
       "    }\n",
       "</style>\n",
       "<table border=\"1\" class=\"dataframe\">\n",
       "  <thead>\n",
       "    <tr style=\"text-align: right;\">\n",
       "      <th></th>\n",
       "      <th>closing_price</th>\n",
       "      <th>news</th>\n",
       "      <th>momentum</th>\n",
       "      <th>EMA</th>\n",
       "      <th>MACD</th>\n",
       "      <th>RSI</th>\n",
       "      <th>ROI</th>\n",
       "      <th>ATR</th>\n",
       "      <th>williams</th>\n",
       "      <th>CCI</th>\n",
       "      <th>UO</th>\n",
       "      <th>Label</th>\n",
       "      <th>target</th>\n",
       "    </tr>\n",
       "  </thead>\n",
       "  <tbody>\n",
       "    <tr>\n",
       "      <th>1369</th>\n",
       "      <td>1200.0</td>\n",
       "      <td>[[0.38958993554115295, 0.8802482485771179, 0.6...</td>\n",
       "      <td>-18.0</td>\n",
       "      <td>1253.874332</td>\n",
       "      <td>-106.215241</td>\n",
       "      <td>0.000000</td>\n",
       "      <td>1.026333</td>\n",
       "      <td>18.0</td>\n",
       "      <td>1.000000</td>\n",
       "      <td>1206.000000</td>\n",
       "      <td>0.114006</td>\n",
       "      <td>1.0</td>\n",
       "      <td>1219.0</td>\n",
       "    </tr>\n",
       "    <tr>\n",
       "      <th>1370</th>\n",
       "      <td>1219.0</td>\n",
       "      <td>[[0.4263569712638855, 0.820303738117218, 0.533...</td>\n",
       "      <td>14.0</td>\n",
       "      <td>1248.509051</td>\n",
       "      <td>-101.129443</td>\n",
       "      <td>1.055556</td>\n",
       "      <td>1.007465</td>\n",
       "      <td>19.0</td>\n",
       "      <td>0.000000</td>\n",
       "      <td>1212.666667</td>\n",
       "      <td>0.140954</td>\n",
       "      <td>0.0</td>\n",
       "      <td>1285.0</td>\n",
       "    </tr>\n",
       "    <tr>\n",
       "      <th>1371</th>\n",
       "      <td>1285.0</td>\n",
       "      <td>[[0.3402753174304962, 0.9472357630729675, 0.50...</td>\n",
       "      <td>80.0</td>\n",
       "      <td>1254.123043</td>\n",
       "      <td>-90.727414</td>\n",
       "      <td>17.000000</td>\n",
       "      <td>0.957665</td>\n",
       "      <td>85.0</td>\n",
       "      <td>0.000000</td>\n",
       "      <td>1256.666667</td>\n",
       "      <td>0.440826</td>\n",
       "      <td>1.0</td>\n",
       "      <td>1273.0</td>\n",
       "    </tr>\n",
       "    <tr>\n",
       "      <th>1372</th>\n",
       "      <td>1273.0</td>\n",
       "      <td>[[0.36220553517341614, 0.9683135151863098, 0.5...</td>\n",
       "      <td>73.0</td>\n",
       "      <td>1257.027190</td>\n",
       "      <td>-82.501011</td>\n",
       "      <td>5.000000</td>\n",
       "      <td>0.967400</td>\n",
       "      <td>85.0</td>\n",
       "      <td>0.141176</td>\n",
       "      <td>1252.666667</td>\n",
       "      <td>0.517338</td>\n",
       "      <td>0.0</td>\n",
       "      <td>1277.0</td>\n",
       "    </tr>\n",
       "    <tr>\n",
       "      <th>1373</th>\n",
       "      <td>1277.0</td>\n",
       "      <td>[[0.38373106718063354, 0.8309400081634521, 0.5...</td>\n",
       "      <td>77.0</td>\n",
       "      <td>1260.099930</td>\n",
       "      <td>-74.796552</td>\n",
       "      <td>7.416667</td>\n",
       "      <td>0.965309</td>\n",
       "      <td>85.0</td>\n",
       "      <td>0.094118</td>\n",
       "      <td>1254.000000</td>\n",
       "      <td>0.495022</td>\n",
       "      <td>0.0</td>\n",
       "      <td>1272.0</td>\n",
       "    </tr>\n",
       "  </tbody>\n",
       "</table>\n",
       "</div>"
      ],
      "text/plain": [
       "      closing_price                                               news  \\\n",
       "1369         1200.0  [[0.38958993554115295, 0.8802482485771179, 0.6...   \n",
       "1370         1219.0  [[0.4263569712638855, 0.820303738117218, 0.533...   \n",
       "1371         1285.0  [[0.3402753174304962, 0.9472357630729675, 0.50...   \n",
       "1372         1273.0  [[0.36220553517341614, 0.9683135151863098, 0.5...   \n",
       "1373         1277.0  [[0.38373106718063354, 0.8309400081634521, 0.5...   \n",
       "\n",
       "      momentum          EMA        MACD        RSI       ROI   ATR  williams  \\\n",
       "1369     -18.0  1253.874332 -106.215241   0.000000  1.026333  18.0  1.000000   \n",
       "1370      14.0  1248.509051 -101.129443   1.055556  1.007465  19.0  0.000000   \n",
       "1371      80.0  1254.123043  -90.727414  17.000000  0.957665  85.0  0.000000   \n",
       "1372      73.0  1257.027190  -82.501011   5.000000  0.967400  85.0  0.141176   \n",
       "1373      77.0  1260.099930  -74.796552   7.416667  0.965309  85.0  0.094118   \n",
       "\n",
       "              CCI        UO  Label  target  \n",
       "1369  1206.000000  0.114006    1.0  1219.0  \n",
       "1370  1212.666667  0.140954    0.0  1285.0  \n",
       "1371  1256.666667  0.440826    1.0  1273.0  \n",
       "1372  1252.666667  0.517338    0.0  1277.0  \n",
       "1373  1254.000000  0.495022    0.0  1272.0  "
      ]
     },
     "execution_count": 15,
     "metadata": {},
     "output_type": "execute_result"
    }
   ],
   "source": [
    "nepse_data['Label'] = nepse_data['closing_price'].rolling(window=2).apply(lambda x:  1 if x[1]>x[0] else 0 ).shift(-2)\n",
    "nepse_data['target'] = nepse_data['closing_price'].shift(-1)\n",
    "nepse_data = nepse_data[:-2]\n",
    "nepse_data.tail()"
   ]
  },
  {
   "cell_type": "code",
   "execution_count": 16,
   "metadata": {},
   "outputs": [
    {
     "data": {
      "text/html": [
       "<div>\n",
       "<style scoped>\n",
       "    .dataframe tbody tr th:only-of-type {\n",
       "        vertical-align: middle;\n",
       "    }\n",
       "\n",
       "    .dataframe tbody tr th {\n",
       "        vertical-align: top;\n",
       "    }\n",
       "\n",
       "    .dataframe thead th {\n",
       "        text-align: right;\n",
       "    }\n",
       "</style>\n",
       "<table border=\"1\" class=\"dataframe\">\n",
       "  <thead>\n",
       "    <tr style=\"text-align: right;\">\n",
       "      <th></th>\n",
       "      <th>closing_price</th>\n",
       "      <th>momentum</th>\n",
       "      <th>EMA</th>\n",
       "      <th>MACD</th>\n",
       "      <th>RSI</th>\n",
       "      <th>ROI</th>\n",
       "      <th>ATR</th>\n",
       "      <th>williams</th>\n",
       "      <th>CCI</th>\n",
       "      <th>UO</th>\n",
       "      <th>Label</th>\n",
       "      <th>target</th>\n",
       "    </tr>\n",
       "  </thead>\n",
       "  <tbody>\n",
       "    <tr>\n",
       "      <th>0</th>\n",
       "      <td>975.0</td>\n",
       "      <td>-87.0</td>\n",
       "      <td>1087.863864</td>\n",
       "      <td>-58.947313</td>\n",
       "      <td>0.149378</td>\n",
       "      <td>1.126154</td>\n",
       "      <td>106.0</td>\n",
       "      <td>0.820755</td>\n",
       "      <td>997.666667</td>\n",
       "      <td>0.154372</td>\n",
       "      <td>0.0</td>\n",
       "      <td>954.0</td>\n",
       "    </tr>\n",
       "    <tr>\n",
       "      <th>1</th>\n",
       "      <td>954.0</td>\n",
       "      <td>-2.0</td>\n",
       "      <td>1067.269422</td>\n",
       "      <td>-65.253876</td>\n",
       "      <td>0.250000</td>\n",
       "      <td>1.122642</td>\n",
       "      <td>38.0</td>\n",
       "      <td>1.000000</td>\n",
       "      <td>966.666667</td>\n",
       "      <td>0.105707</td>\n",
       "      <td>0.0</td>\n",
       "      <td>917.0</td>\n",
       "    </tr>\n",
       "    <tr>\n",
       "      <th>2</th>\n",
       "      <td>917.0</td>\n",
       "      <td>-75.0</td>\n",
       "      <td>1044.151049</td>\n",
       "      <td>-72.401798</td>\n",
       "      <td>0.480000</td>\n",
       "      <td>1.135878</td>\n",
       "      <td>75.0</td>\n",
       "      <td>1.000000</td>\n",
       "      <td>942.000000</td>\n",
       "      <td>0.069584</td>\n",
       "      <td>0.0</td>\n",
       "      <td>903.0</td>\n",
       "    </tr>\n",
       "    <tr>\n",
       "      <th>3</th>\n",
       "      <td>903.0</td>\n",
       "      <td>-87.0</td>\n",
       "      <td>1022.435502</td>\n",
       "      <td>-78.293327</td>\n",
       "      <td>0.000000</td>\n",
       "      <td>1.120598</td>\n",
       "      <td>87.0</td>\n",
       "      <td>1.000000</td>\n",
       "      <td>932.000000</td>\n",
       "      <td>0.068895</td>\n",
       "      <td>1.0</td>\n",
       "      <td>885.0</td>\n",
       "    </tr>\n",
       "    <tr>\n",
       "      <th>4</th>\n",
       "      <td>885.0</td>\n",
       "      <td>-90.0</td>\n",
       "      <td>1001.291578</td>\n",
       "      <td>-83.452392</td>\n",
       "      <td>0.000000</td>\n",
       "      <td>1.108927</td>\n",
       "      <td>90.0</td>\n",
       "      <td>1.000000</td>\n",
       "      <td>915.000000</td>\n",
       "      <td>0.108076</td>\n",
       "      <td>1.0</td>\n",
       "      <td>897.0</td>\n",
       "    </tr>\n",
       "  </tbody>\n",
       "</table>\n",
       "</div>"
      ],
      "text/plain": [
       "   closing_price  momentum          EMA       MACD       RSI       ROI    ATR  \\\n",
       "0          975.0     -87.0  1087.863864 -58.947313  0.149378  1.126154  106.0   \n",
       "1          954.0      -2.0  1067.269422 -65.253876  0.250000  1.122642   38.0   \n",
       "2          917.0     -75.0  1044.151049 -72.401798  0.480000  1.135878   75.0   \n",
       "3          903.0     -87.0  1022.435502 -78.293327  0.000000  1.120598   87.0   \n",
       "4          885.0     -90.0  1001.291578 -83.452392  0.000000  1.108927   90.0   \n",
       "\n",
       "   williams         CCI        UO  Label  target  \n",
       "0  0.820755  997.666667  0.154372    0.0   954.0  \n",
       "1  1.000000  966.666667  0.105707    0.0   917.0  \n",
       "2  1.000000  942.000000  0.069584    0.0   903.0  \n",
       "3  1.000000  932.000000  0.068895    1.0   885.0  \n",
       "4  1.000000  915.000000  0.108076    1.0   897.0  "
      ]
     },
     "execution_count": 16,
     "metadata": {},
     "output_type": "execute_result"
    }
   ],
   "source": [
    "#Using only tech indicators and closing price\n",
    "dataset = nepse_data.drop(\"news\", axis=1)\n",
    "dataset.head()"
   ]
  },
  {
   "cell_type": "code",
   "execution_count": 17,
   "metadata": {},
   "outputs": [
    {
     "data": {
      "text/plain": [
       "(1314, 12)"
      ]
     },
     "execution_count": 17,
     "metadata": {},
     "output_type": "execute_result"
    }
   ],
   "source": [
    "dataset.shape"
   ]
  },
  {
   "cell_type": "code",
   "execution_count": 18,
   "metadata": {},
   "outputs": [
    {
     "data": {
      "text/html": [
       "<div>\n",
       "<style scoped>\n",
       "    .dataframe tbody tr th:only-of-type {\n",
       "        vertical-align: middle;\n",
       "    }\n",
       "\n",
       "    .dataframe tbody tr th {\n",
       "        vertical-align: top;\n",
       "    }\n",
       "\n",
       "    .dataframe thead th {\n",
       "        text-align: right;\n",
       "    }\n",
       "</style>\n",
       "<table border=\"1\" class=\"dataframe\">\n",
       "  <thead>\n",
       "    <tr style=\"text-align: right;\">\n",
       "      <th></th>\n",
       "      <th>closing_price</th>\n",
       "      <th>momentum</th>\n",
       "      <th>EMA</th>\n",
       "      <th>MACD</th>\n",
       "      <th>RSI</th>\n",
       "      <th>ROI</th>\n",
       "      <th>ATR</th>\n",
       "      <th>williams</th>\n",
       "      <th>CCI</th>\n",
       "      <th>UO</th>\n",
       "    </tr>\n",
       "  </thead>\n",
       "  <tbody>\n",
       "    <tr>\n",
       "      <th>0</th>\n",
       "      <td>975.0</td>\n",
       "      <td>-87.0</td>\n",
       "      <td>1087.863864</td>\n",
       "      <td>-58.947313</td>\n",
       "      <td>0.149378</td>\n",
       "      <td>1.126154</td>\n",
       "      <td>106.0</td>\n",
       "      <td>0.820755</td>\n",
       "      <td>997.666667</td>\n",
       "      <td>0.154372</td>\n",
       "    </tr>\n",
       "    <tr>\n",
       "      <th>1</th>\n",
       "      <td>954.0</td>\n",
       "      <td>-2.0</td>\n",
       "      <td>1067.269422</td>\n",
       "      <td>-65.253876</td>\n",
       "      <td>0.250000</td>\n",
       "      <td>1.122642</td>\n",
       "      <td>38.0</td>\n",
       "      <td>1.000000</td>\n",
       "      <td>966.666667</td>\n",
       "      <td>0.105707</td>\n",
       "    </tr>\n",
       "    <tr>\n",
       "      <th>2</th>\n",
       "      <td>917.0</td>\n",
       "      <td>-75.0</td>\n",
       "      <td>1044.151049</td>\n",
       "      <td>-72.401798</td>\n",
       "      <td>0.480000</td>\n",
       "      <td>1.135878</td>\n",
       "      <td>75.0</td>\n",
       "      <td>1.000000</td>\n",
       "      <td>942.000000</td>\n",
       "      <td>0.069584</td>\n",
       "    </tr>\n",
       "    <tr>\n",
       "      <th>3</th>\n",
       "      <td>903.0</td>\n",
       "      <td>-87.0</td>\n",
       "      <td>1022.435502</td>\n",
       "      <td>-78.293327</td>\n",
       "      <td>0.000000</td>\n",
       "      <td>1.120598</td>\n",
       "      <td>87.0</td>\n",
       "      <td>1.000000</td>\n",
       "      <td>932.000000</td>\n",
       "      <td>0.068895</td>\n",
       "    </tr>\n",
       "    <tr>\n",
       "      <th>4</th>\n",
       "      <td>885.0</td>\n",
       "      <td>-90.0</td>\n",
       "      <td>1001.291578</td>\n",
       "      <td>-83.452392</td>\n",
       "      <td>0.000000</td>\n",
       "      <td>1.108927</td>\n",
       "      <td>90.0</td>\n",
       "      <td>1.000000</td>\n",
       "      <td>915.000000</td>\n",
       "      <td>0.108076</td>\n",
       "    </tr>\n",
       "  </tbody>\n",
       "</table>\n",
       "</div>"
      ],
      "text/plain": [
       "   closing_price  momentum          EMA       MACD       RSI       ROI    ATR  \\\n",
       "0          975.0     -87.0  1087.863864 -58.947313  0.149378  1.126154  106.0   \n",
       "1          954.0      -2.0  1067.269422 -65.253876  0.250000  1.122642   38.0   \n",
       "2          917.0     -75.0  1044.151049 -72.401798  0.480000  1.135878   75.0   \n",
       "3          903.0     -87.0  1022.435502 -78.293327  0.000000  1.120598   87.0   \n",
       "4          885.0     -90.0  1001.291578 -83.452392  0.000000  1.108927   90.0   \n",
       "\n",
       "   williams         CCI        UO  \n",
       "0  0.820755  997.666667  0.154372  \n",
       "1  1.000000  966.666667  0.105707  \n",
       "2  1.000000  942.000000  0.069584  \n",
       "3  1.000000  932.000000  0.068895  \n",
       "4  1.000000  915.000000  0.108076  "
      ]
     },
     "execution_count": 18,
     "metadata": {},
     "output_type": "execute_result"
    }
   ],
   "source": [
    "X = dataset.drop([\"target\",\"Label\"], axis = 1)\n",
    "Y = dataset[\"Label\"]\n",
    "X.head()"
   ]
  },
  {
   "cell_type": "code",
   "execution_count": 19,
   "metadata": {},
   "outputs": [
    {
     "data": {
      "text/plain": [
       "0    0.0\n",
       "1    0.0\n",
       "2    0.0\n",
       "3    1.0\n",
       "4    1.0\n",
       "Name: Label, dtype: float64"
      ]
     },
     "execution_count": 19,
     "metadata": {},
     "output_type": "execute_result"
    }
   ],
   "source": [
    "Y.head()"
   ]
  },
  {
   "cell_type": "code",
   "execution_count": 20,
   "metadata": {},
   "outputs": [],
   "source": [
    "scaler = StandardScaler()\n",
    "scaler.fit(X.values)\n",
    "x_norm = pd.DataFrame(scaler.transform(X.values), index=X.index, columns=X.columns)\n"
   ]
  },
  {
   "cell_type": "markdown",
   "metadata": {},
   "source": [
    "# SVM Classifier"
   ]
  },
  {
   "cell_type": "code",
   "execution_count": 27,
   "metadata": {},
   "outputs": [
    {
     "data": {
      "image/png": "[encoded data removed]",
      "text/plain": [
       "<Figure size 432x288 with 1 Axes>"
      ]
     },
     "metadata": {
      "needs_background": "light"
     },
     "output_type": "display_data"
    }
   ],
   "source": [
    "#Train Test split\n",
    "X_train, X_test, Y_train, Y_test = train_test_split(x_norm,Y,test_size=0.2,shuffle=False)\n",
    "test_hist = Y_test.hist()\n",
    "#define model\n",
    "model = SVC()\n",
    "#search for best hyperparameter\n",
    "grid_data = {'kernel': ['rbf', 'sigmoid'], 'C': [0.1, 1, 10, 100,1000], 'random_state': [5]}\n",
    "grid = GridSearchCV(model, grid_data, scoring = 'f1').fit(X_train,Y_train)\n",
    "#print(grid.best_params_)\n",
    "model = grid.best_estimator_\n"
   ]
  },
  {
   "cell_type": "code",
   "execution_count": 28,
   "metadata": {
    "scrolled": true
   },
   "outputs": [
    {
     "name": "stdout",
     "output_type": "stream",
     "text": [
      "[0. 0. 0. 1. 1. 1. 1. 0. 0. 0. 0. 0. 0. 0. 0. 0. 0. 0. 0. 0. 0. 0. 0. 0.\n",
      " 0. 0. 0. 0. 0. 1. 1. 1. 1. 1. 0. 0. 0. 0. 1. 1. 1. 0. 1. 1. 1. 1. 1. 1.\n",
      " 0. 1. 1. 1. 1. 1. 1. 1. 1. 1. 1. 1. 1. 0. 1. 1. 1. 1. 1. 1. 1. 1. 1. 0.\n",
      " 0. 0. 0. 1. 1. 1. 1. 1. 1. 1. 1. 1. 1. 0. 1. 0. 1. 1. 1. 1. 1. 1. 1. 0.\n",
      " 0. 1. 1. 0. 1. 0. 0. 1. 1. 1. 1. 1. 0. 0. 1. 1. 1. 1. 1. 1. 0. 1. 0. 1.\n",
      " 1. 0. 1. 1. 1. 0. 0. 0. 0. 1. 1. 1. 0. 1. 1. 1. 1. 1. 1. 0. 0. 0. 1. 0.\n",
      " 0. 1. 1. 0. 0. 1. 0. 0. 1. 1. 1. 1. 0. 0. 0. 1. 1. 1. 1. 1. 1. 0. 0. 1.\n",
      " 1. 0. 0. 0. 1. 0. 0. 0. 0. 0. 0. 1. 1. 1. 0. 1. 1. 1. 1. 0. 1. 1. 0. 1.\n",
      " 0. 0. 1. 1. 0. 0. 0. 1. 0. 0. 0. 1. 1. 0. 0. 0. 0. 1. 0. 0. 0. 0. 0. 0.\n",
      " 0. 0. 0. 1. 0. 0. 0. 0. 1. 0. 0. 0. 0. 0. 0. 0. 0. 0. 0. 0. 0. 0. 0. 0.\n",
      " 0. 1. 1. 1. 1. 1. 1. 0. 0. 1. 1. 1. 1. 1. 1. 1. 1. 1. 1. 1. 1. 1. 1.]\n",
      "Accuracy Score: 40.68 %\n",
      "F1 Score: 0.3760\n"
     ]
    }
   ],
   "source": [
    "#Prediction\n",
    "y_pred = model.predict(X_test)\n",
    "print(y_pred)\n",
    "acc = accuracy_score(Y_test, y_pred)\n",
    "f1 = f1_score(Y_test, y_pred)\n",
    "print(\"Accuracy Score: {0:0.2f} %\".format(acc * 100))\n",
    "print(\"F1 Score: {0:0.4f}\".format(f1))\n"
   ]
  },
  {
   "cell_type": "markdown",
   "metadata": {},
   "source": [
    "# SVM Regression"
   ]
  },
  {
   "cell_type": "code",
   "execution_count": 19,
   "metadata": {},
   "outputs": [
    {
     "data": {
      "text/plain": [
       "0    954.0\n",
       "1    917.0\n",
       "2    903.0\n",
       "3    885.0\n",
       "4    897.0\n",
       "Name: target, dtype: float64"
      ]
     },
     "execution_count": 19,
     "metadata": {},
     "output_type": "execute_result"
    }
   ],
   "source": [
    "\n",
    "y = dataset[\"target\"]\n",
    "y.head()"
   ]
  },
  {
   "cell_type": "code",
   "execution_count": 13,
   "metadata": {},
   "outputs": [
    {
     "name": "stdout",
     "output_type": "stream",
     "text": [
      "SVR(C=1000.0, cache_size=200, coef0=0.0, degree=3, epsilon=0.1, gamma=0.1,\n",
      "  kernel='rbf', max_iter=-1, shrinking=True, tol=0.001, verbose=False)\n"
     ]
    },
    {
     "data": {
      "text/plain": [
       "SVR(C=1000.0, cache_size=200, coef0=0.0, degree=3, epsilon=0.1, gamma=0.1,\n",
       "  kernel='rbf', max_iter=-1, shrinking=True, tol=0.001, verbose=False)"
      ]
     },
     "execution_count": 13,
     "metadata": {},
     "output_type": "execute_result"
    }
   ],
   "source": [
    "x_train, x_test, y_train, y_test = train_test_split(X,y,test_size=0.2,shuffle=False)\n",
    "regression_model = SVR(kernel='rbf', C=1e3, gamma=0.1)\n",
    "print(regression_model)\n",
    "regression_model.fit(x_train,y_train)\n",
    "\n"
   ]
  },
  {
   "cell_type": "code",
   "execution_count": 14,
   "metadata": {},
   "outputs": [
    {
     "name": "stdout",
     "output_type": "stream",
     "text": [
      "1817.4213209687134   1.5650570218114954\n"
     ]
    },
    {
     "data": {
      "image/png": "[encoded data removed]",
      "text/plain": [
       "<Figure size 432x288 with 1 Axes>"
      ]
     },
     "metadata": {
      "needs_background": "light"
     },
     "output_type": "display_data"
    }
   ],
   "source": [
    "\n",
    "Y_pred = regression_model.predict(x_test)\n",
    "stdev = np.sqrt(sum((regression_model.predict(x_train) - y_train)**2) / (len(y_train) - 2))\n",
    "print(Y_pred[0], ' ', stdev)\n",
    "higher = Y_pred + 1.96*stdev\n",
    "lower = Y_pred - 1.96*stdev\n",
    "#print(higher[0])\n",
    "x = range(264)\n",
    "plt.plot(x, y_test,color='red', label='true data')\n",
    "#plt.plot(x, Y_pred, color='green', label='predicted')\n",
    "\n",
    "plt.fill_between(x,higher,lower,edgecolor='#1B2ACC', facecolor='#089FFF')\n",
    "plt.legend(loc = \"upper right\")\n",
    "plt.show()"
   ]
  },
  {
   "cell_type": "code",
   "execution_count": 15,
   "metadata": {},
   "outputs": [
    {
     "data": {
      "text/plain": [
       "-0.4929386453957403"
      ]
     },
     "execution_count": 15,
     "metadata": {},
     "output_type": "execute_result"
    }
   ],
   "source": [
    "regression_model.score(x_test,y_test)"
   ]
  },
  {
   "cell_type": "code",
   "execution_count": 16,
   "metadata": {},
   "outputs": [],
   "source": [
    "st_pred = StockPredictor(x_train)"
   ]
  },
  {
   "cell_type": "code",
   "execution_count": 17,
   "metadata": {},
   "outputs": [
    {
     "name": "stdout",
     "output_type": "stream",
     "text": [
      "39.258120389933424\n"
     ]
    }
   ],
   "source": [
    "st_pred.train(x_train,y_train)\n",
    "print(st_pred.stdev)\n",
    "model_filename = 'stock_predictor.obj'\n",
    "pickle.dump(st_pred,open(model_filename, 'wb'),pickle.HIGHEST_PROTOCOL)"
   ]
  },
  {
   "cell_type": "code",
   "execution_count": 18,
   "metadata": {},
   "outputs": [
    {
     "name": "stdout",
     "output_type": "stream",
     "text": [
      "999.4629032739481 845.5710713454091\n"
     ]
    },
    {
     "data": {
      "image/png": "[encoded data removed]",
      "text/plain": [
       "<Figure size 432x288 with 1 Axes>"
      ]
     },
     "metadata": {
      "needs_background": "light"
     },
     "output_type": "display_data"
    }
   ],
   "source": [
    "predictor = pickle.load(open('stock_predictor.obj','rb'))\n",
    "features = {'a':975.0, 'b':-87.0, 'c':1087.863864,'d':-58.947313, 'e':0.149378, 'f':1.126154, 'g':106.0, 'h':0.820755, 'i':997.666667, 'j':0.154372}\n",
    "features = pd.DataFrame(features, index=[0])\n",
    "upper, lower = predictor.predict(x_train,1.96)\n",
    "x_axis = range(len(y_test))\n",
    "plt.plot(x_axis, y_test,color='red', label='true data')\n",
    "plt.plot(x, Y_pred, color='green', label='predicted')\n",
    "print(upper[0], lower[0])\n",
    "#plt.fill_between(x_axis,upper,lower,edgecolor='#1B2ACC', facecolor='#089FFF')\n",
    "plt.legend(loc = \"upper right\")\n",
    "plt.show()"
   ]
  },
  {
   "cell_type": "code",
   "execution_count": null,
   "metadata": {},
   "outputs": [],
   "source": []
  }
 ],
 "metadata": {
  "kernelspec": {
   "display_name": "Python 3",
   "language": "python",
   "name": "python3"
  },
  "language_info": {
   "codemirror_mode": {
    "name": "ipython",
    "version": 3
   },
   "file_extension": ".py",
   "mimetype": "text/x-python",
   "name": "python",
   "nbconvert_exporter": "python",
   "pygments_lexer": "ipython3",
   "version": "3.6.3"
  }
 },
 "nbformat": 4,
 "nbformat_minor": 2
}
