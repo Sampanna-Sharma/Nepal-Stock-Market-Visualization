{
 "cells": [
  {
   "cell_type": "code",
   "execution_count": 1,
   "metadata": {},
   "outputs": [],
   "source": [
    "import numpy as np\n",
    "import pandas as pd\n",
    "from sklearn.preprocessing import StandardScaler\n",
    "from sklearn.model_selection import train_test_split, GridSearchCV\n",
    "from sklearn.metrics import accuracy_score, f1_score\n",
    "from sklearn.svm import SVC\n",
    "from sklearn.svm import SVR\n",
    "import matplotlib.pyplot as plt\n",
    "import warnings\n",
    "import pickle\n",
    "warnings.filterwarnings(\"ignore\")"
   ]
  },
  {
   "cell_type": "markdown",
   "metadata": {},
   "source": [
    "# Data Preprocessing"
   ]
  },
  {
   "cell_type": "code",
   "execution_count": 2,
   "metadata": {},
   "outputs": [
    {
     "data": {
      "text/html": [
       "<div>\n",
       "<style scoped>\n",
       "    .dataframe tbody tr th:only-of-type {\n",
       "        vertical-align: middle;\n",
       "    }\n",
       "\n",
       "    .dataframe tbody tr th {\n",
       "        vertical-align: top;\n",
       "    }\n",
       "\n",
       "    .dataframe thead th {\n",
       "        text-align: right;\n",
       "    }\n",
       "</style>\n",
       "<table border=\"1\" class=\"dataframe\">\n",
       "  <thead>\n",
       "    <tr style=\"text-align: right;\">\n",
       "      <th></th>\n",
       "      <th>closing_price</th>\n",
       "      <th>news</th>\n",
       "      <th>momentum</th>\n",
       "      <th>EMA</th>\n",
       "      <th>MACD</th>\n",
       "      <th>RSI</th>\n",
       "      <th>ROI</th>\n",
       "      <th>ATR</th>\n",
       "      <th>williams</th>\n",
       "      <th>CCI</th>\n",
       "      <th>UO</th>\n",
       "    </tr>\n",
       "  </thead>\n",
       "  <tbody>\n",
       "    <tr>\n",
       "      <th>0</th>\n",
       "      <td>975.0</td>\n",
       "      <td>[[0.2306930273771286, 0.792356550693512, 0.642...</td>\n",
       "      <td>-87.0</td>\n",
       "      <td>1087.863864</td>\n",
       "      <td>-58.947313</td>\n",
       "      <td>0.149378</td>\n",
       "      <td>1.126154</td>\n",
       "      <td>106.0</td>\n",
       "      <td>0.820755</td>\n",
       "      <td>997.666667</td>\n",
       "      <td>0.154372</td>\n",
       "    </tr>\n",
       "    <tr>\n",
       "      <th>1</th>\n",
       "      <td>954.0</td>\n",
       "      <td>[[0.31689509749412537, 0.8638337850570679, 0.6...</td>\n",
       "      <td>-2.0</td>\n",
       "      <td>1067.269422</td>\n",
       "      <td>-65.253876</td>\n",
       "      <td>0.250000</td>\n",
       "      <td>1.122642</td>\n",
       "      <td>38.0</td>\n",
       "      <td>1.000000</td>\n",
       "      <td>966.666667</td>\n",
       "      <td>0.105707</td>\n",
       "    </tr>\n",
       "    <tr>\n",
       "      <th>2</th>\n",
       "      <td>917.0</td>\n",
       "      <td>[[0.31150949001312256, 0.7647785544395447, 0.6...</td>\n",
       "      <td>-75.0</td>\n",
       "      <td>1044.151049</td>\n",
       "      <td>-72.401798</td>\n",
       "      <td>0.480000</td>\n",
       "      <td>1.135878</td>\n",
       "      <td>75.0</td>\n",
       "      <td>1.000000</td>\n",
       "      <td>942.000000</td>\n",
       "      <td>0.069584</td>\n",
       "    </tr>\n",
       "    <tr>\n",
       "      <th>3</th>\n",
       "      <td>903.0</td>\n",
       "      <td>[[0.1868913620710373, 0.7952941060066223, 0.61...</td>\n",
       "      <td>-87.0</td>\n",
       "      <td>1022.435502</td>\n",
       "      <td>-78.293327</td>\n",
       "      <td>0.000000</td>\n",
       "      <td>1.120598</td>\n",
       "      <td>87.0</td>\n",
       "      <td>1.000000</td>\n",
       "      <td>932.000000</td>\n",
       "      <td>0.068895</td>\n",
       "    </tr>\n",
       "    <tr>\n",
       "      <th>4</th>\n",
       "      <td>885.0</td>\n",
       "      <td>[[0.3303453326225281, 0.8576347231864929, 0.68...</td>\n",
       "      <td>-90.0</td>\n",
       "      <td>1001.291578</td>\n",
       "      <td>-83.452392</td>\n",
       "      <td>0.000000</td>\n",
       "      <td>1.108927</td>\n",
       "      <td>90.0</td>\n",
       "      <td>1.000000</td>\n",
       "      <td>915.000000</td>\n",
       "      <td>0.108076</td>\n",
       "    </tr>\n",
       "  </tbody>\n",
       "</table>\n",
       "</div>"
      ],
      "text/plain": [
       "   closing_price                                               news  momentum  \\\n",
       "0          975.0  [[0.2306930273771286, 0.792356550693512, 0.642...     -87.0   \n",
       "1          954.0  [[0.31689509749412537, 0.8638337850570679, 0.6...      -2.0   \n",
       "2          917.0  [[0.31150949001312256, 0.7647785544395447, 0.6...     -75.0   \n",
       "3          903.0  [[0.1868913620710373, 0.7952941060066223, 0.61...     -87.0   \n",
       "4          885.0  [[0.3303453326225281, 0.8576347231864929, 0.68...     -90.0   \n",
       "\n",
       "           EMA       MACD       RSI       ROI    ATR  williams         CCI  \\\n",
       "0  1087.863864 -58.947313  0.149378  1.126154  106.0  0.820755  997.666667   \n",
       "1  1067.269422 -65.253876  0.250000  1.122642   38.0  1.000000  966.666667   \n",
       "2  1044.151049 -72.401798  0.480000  1.135878   75.0  1.000000  942.000000   \n",
       "3  1022.435502 -78.293327  0.000000  1.120598   87.0  1.000000  932.000000   \n",
       "4  1001.291578 -83.452392  0.000000  1.108927   90.0  1.000000  915.000000   \n",
       "\n",
       "         UO  \n",
       "0  0.154372  \n",
       "1  0.105707  \n",
       "2  0.069584  \n",
       "3  0.068895  \n",
       "4  0.108076  "
      ]
     },
     "execution_count": 2,
     "metadata": {},
     "output_type": "execute_result"
    }
   ],
   "source": [
    "nepse_data = pd.read_csv(\"data_set_ready_for_training.csv\")\n",
    "nepse_data.head(5)"
   ]
  },
  {
   "cell_type": "code",
   "execution_count": 3,
   "metadata": {},
   "outputs": [],
   "source": [
    "nepse_data = nepse_data.replace([np.inf, -np.inf], np.nan).dropna()"
   ]
  },
  {
   "cell_type": "code",
   "execution_count": 4,
   "metadata": {},
   "outputs": [
    {
     "data": {
      "text/html": [
       "<div>\n",
       "<style scoped>\n",
       "    .dataframe tbody tr th:only-of-type {\n",
       "        vertical-align: middle;\n",
       "    }\n",
       "\n",
       "    .dataframe tbody tr th {\n",
       "        vertical-align: top;\n",
       "    }\n",
       "\n",
       "    .dataframe thead th {\n",
       "        text-align: right;\n",
       "    }\n",
       "</style>\n",
       "<table border=\"1\" class=\"dataframe\">\n",
       "  <thead>\n",
       "    <tr style=\"text-align: right;\">\n",
       "      <th></th>\n",
       "      <th>closing_price</th>\n",
       "      <th>news</th>\n",
       "      <th>momentum</th>\n",
       "      <th>EMA</th>\n",
       "      <th>MACD</th>\n",
       "      <th>RSI</th>\n",
       "      <th>ROI</th>\n",
       "      <th>ATR</th>\n",
       "      <th>williams</th>\n",
       "      <th>CCI</th>\n",
       "      <th>UO</th>\n",
       "      <th>Label</th>\n",
       "      <th>target</th>\n",
       "    </tr>\n",
       "  </thead>\n",
       "  <tbody>\n",
       "    <tr>\n",
       "      <th>1372</th>\n",
       "      <td>1273.0</td>\n",
       "      <td>[[0.36220553517341614, 0.9683135151863098, 0.5...</td>\n",
       "      <td>73.0</td>\n",
       "      <td>1257.027190</td>\n",
       "      <td>-82.501011</td>\n",
       "      <td>5.000000</td>\n",
       "      <td>0.967400</td>\n",
       "      <td>85.0</td>\n",
       "      <td>0.141176</td>\n",
       "      <td>1252.666667</td>\n",
       "      <td>0.517338</td>\n",
       "      <td>1.0</td>\n",
       "      <td>1277.0</td>\n",
       "    </tr>\n",
       "    <tr>\n",
       "      <th>1373</th>\n",
       "      <td>1277.0</td>\n",
       "      <td>[[0.38373106718063354, 0.8309400081634521, 0.5...</td>\n",
       "      <td>77.0</td>\n",
       "      <td>1260.099930</td>\n",
       "      <td>-74.796552</td>\n",
       "      <td>7.416667</td>\n",
       "      <td>0.965309</td>\n",
       "      <td>85.0</td>\n",
       "      <td>0.094118</td>\n",
       "      <td>1254.000000</td>\n",
       "      <td>0.495022</td>\n",
       "      <td>0.0</td>\n",
       "      <td>1272.0</td>\n",
       "    </tr>\n",
       "    <tr>\n",
       "      <th>1374</th>\n",
       "      <td>1272.0</td>\n",
       "      <td>[[0.3729100525379181, 0.8552981615066528, 0.60...</td>\n",
       "      <td>53.0</td>\n",
       "      <td>1261.930710</td>\n",
       "      <td>-68.306774</td>\n",
       "      <td>5.235294</td>\n",
       "      <td>0.971226</td>\n",
       "      <td>66.0</td>\n",
       "      <td>0.196970</td>\n",
       "      <td>1258.666667</td>\n",
       "      <td>0.489393</td>\n",
       "      <td>0.0</td>\n",
       "      <td>1265.0</td>\n",
       "    </tr>\n",
       "    <tr>\n",
       "      <th>1375</th>\n",
       "      <td>1265.0</td>\n",
       "      <td>[[0.15445244312286377, 0.6669142842292786, 0.7...</td>\n",
       "      <td>-20.0</td>\n",
       "      <td>1262.402908</td>\n",
       "      <td>-63.002169</td>\n",
       "      <td>2.916667</td>\n",
       "      <td>0.980316</td>\n",
       "      <td>20.0</td>\n",
       "      <td>1.000000</td>\n",
       "      <td>1271.666667</td>\n",
       "      <td>0.453701</td>\n",
       "      <td>0.0</td>\n",
       "      <td>1257.0</td>\n",
       "    </tr>\n",
       "    <tr>\n",
       "      <th>1376</th>\n",
       "      <td>1257.0</td>\n",
       "      <td>[[0.3814601004123688, 0.7400802969932556, 0.64...</td>\n",
       "      <td>-16.0</td>\n",
       "      <td>1261.571692</td>\n",
       "      <td>-58.766343</td>\n",
       "      <td>0.125000</td>\n",
       "      <td>0.990692</td>\n",
       "      <td>20.0</td>\n",
       "      <td>1.000000</td>\n",
       "      <td>1263.666667</td>\n",
       "      <td>0.465451</td>\n",
       "      <td>0.0</td>\n",
       "      <td>1235.0</td>\n",
       "    </tr>\n",
       "  </tbody>\n",
       "</table>\n",
       "</div>"
      ],
      "text/plain": [
       "      closing_price                                               news  \\\n",
       "1372         1273.0  [[0.36220553517341614, 0.9683135151863098, 0.5...   \n",
       "1373         1277.0  [[0.38373106718063354, 0.8309400081634521, 0.5...   \n",
       "1374         1272.0  [[0.3729100525379181, 0.8552981615066528, 0.60...   \n",
       "1375         1265.0  [[0.15445244312286377, 0.6669142842292786, 0.7...   \n",
       "1376         1257.0  [[0.3814601004123688, 0.7400802969932556, 0.64...   \n",
       "\n",
       "      momentum          EMA       MACD       RSI       ROI   ATR  williams  \\\n",
       "1372      73.0  1257.027190 -82.501011  5.000000  0.967400  85.0  0.141176   \n",
       "1373      77.0  1260.099930 -74.796552  7.416667  0.965309  85.0  0.094118   \n",
       "1374      53.0  1261.930710 -68.306774  5.235294  0.971226  66.0  0.196970   \n",
       "1375     -20.0  1262.402908 -63.002169  2.916667  0.980316  20.0  1.000000   \n",
       "1376     -16.0  1261.571692 -58.766343  0.125000  0.990692  20.0  1.000000   \n",
       "\n",
       "              CCI        UO  Label  target  \n",
       "1372  1252.666667  0.517338    1.0  1277.0  \n",
       "1373  1254.000000  0.495022    0.0  1272.0  \n",
       "1374  1258.666667  0.489393    0.0  1265.0  \n",
       "1375  1271.666667  0.453701    0.0  1257.0  \n",
       "1376  1263.666667  0.465451    0.0  1235.0  "
      ]
     },
     "execution_count": 4,
     "metadata": {},
     "output_type": "execute_result"
    }
   ],
   "source": [
    "nepse_data['Label'] = nepse_data['closing_price'].rolling(window=2).apply(lambda x:  1 if x[1]>x[0] else 0 ).shift(-1)\n",
    "nepse_data['target'] = nepse_data['closing_price'].shift(-1)\n",
    "nepse_data = nepse_data[:-1]\n",
    "nepse_data.tail()"
   ]
  },
  {
   "cell_type": "code",
   "execution_count": 5,
   "metadata": {},
   "outputs": [
    {
     "data": {
      "text/html": [
       "<div>\n",
       "<style scoped>\n",
       "    .dataframe tbody tr th:only-of-type {\n",
       "        vertical-align: middle;\n",
       "    }\n",
       "\n",
       "    .dataframe tbody tr th {\n",
       "        vertical-align: top;\n",
       "    }\n",
       "\n",
       "    .dataframe thead th {\n",
       "        text-align: right;\n",
       "    }\n",
       "</style>\n",
       "<table border=\"1\" class=\"dataframe\">\n",
       "  <thead>\n",
       "    <tr style=\"text-align: right;\">\n",
       "      <th></th>\n",
       "      <th>closing_price</th>\n",
       "      <th>momentum</th>\n",
       "      <th>EMA</th>\n",
       "      <th>MACD</th>\n",
       "      <th>RSI</th>\n",
       "      <th>ROI</th>\n",
       "      <th>ATR</th>\n",
       "      <th>williams</th>\n",
       "      <th>CCI</th>\n",
       "      <th>UO</th>\n",
       "      <th>Label</th>\n",
       "      <th>target</th>\n",
       "    </tr>\n",
       "  </thead>\n",
       "  <tbody>\n",
       "    <tr>\n",
       "      <th>0</th>\n",
       "      <td>975.0</td>\n",
       "      <td>-87.0</td>\n",
       "      <td>1087.863864</td>\n",
       "      <td>-58.947313</td>\n",
       "      <td>0.149378</td>\n",
       "      <td>1.126154</td>\n",
       "      <td>106.0</td>\n",
       "      <td>0.820755</td>\n",
       "      <td>997.666667</td>\n",
       "      <td>0.154372</td>\n",
       "      <td>0.0</td>\n",
       "      <td>954.0</td>\n",
       "    </tr>\n",
       "    <tr>\n",
       "      <th>1</th>\n",
       "      <td>954.0</td>\n",
       "      <td>-2.0</td>\n",
       "      <td>1067.269422</td>\n",
       "      <td>-65.253876</td>\n",
       "      <td>0.250000</td>\n",
       "      <td>1.122642</td>\n",
       "      <td>38.0</td>\n",
       "      <td>1.000000</td>\n",
       "      <td>966.666667</td>\n",
       "      <td>0.105707</td>\n",
       "      <td>0.0</td>\n",
       "      <td>917.0</td>\n",
       "    </tr>\n",
       "    <tr>\n",
       "      <th>2</th>\n",
       "      <td>917.0</td>\n",
       "      <td>-75.0</td>\n",
       "      <td>1044.151049</td>\n",
       "      <td>-72.401798</td>\n",
       "      <td>0.480000</td>\n",
       "      <td>1.135878</td>\n",
       "      <td>75.0</td>\n",
       "      <td>1.000000</td>\n",
       "      <td>942.000000</td>\n",
       "      <td>0.069584</td>\n",
       "      <td>0.0</td>\n",
       "      <td>903.0</td>\n",
       "    </tr>\n",
       "    <tr>\n",
       "      <th>3</th>\n",
       "      <td>903.0</td>\n",
       "      <td>-87.0</td>\n",
       "      <td>1022.435502</td>\n",
       "      <td>-78.293327</td>\n",
       "      <td>0.000000</td>\n",
       "      <td>1.120598</td>\n",
       "      <td>87.0</td>\n",
       "      <td>1.000000</td>\n",
       "      <td>932.000000</td>\n",
       "      <td>0.068895</td>\n",
       "      <td>0.0</td>\n",
       "      <td>885.0</td>\n",
       "    </tr>\n",
       "    <tr>\n",
       "      <th>4</th>\n",
       "      <td>885.0</td>\n",
       "      <td>-90.0</td>\n",
       "      <td>1001.291578</td>\n",
       "      <td>-83.452392</td>\n",
       "      <td>0.000000</td>\n",
       "      <td>1.108927</td>\n",
       "      <td>90.0</td>\n",
       "      <td>1.000000</td>\n",
       "      <td>915.000000</td>\n",
       "      <td>0.108076</td>\n",
       "      <td>1.0</td>\n",
       "      <td>897.0</td>\n",
       "    </tr>\n",
       "  </tbody>\n",
       "</table>\n",
       "</div>"
      ],
      "text/plain": [
       "   closing_price  momentum          EMA       MACD       RSI       ROI    ATR  \\\n",
       "0          975.0     -87.0  1087.863864 -58.947313  0.149378  1.126154  106.0   \n",
       "1          954.0      -2.0  1067.269422 -65.253876  0.250000  1.122642   38.0   \n",
       "2          917.0     -75.0  1044.151049 -72.401798  0.480000  1.135878   75.0   \n",
       "3          903.0     -87.0  1022.435502 -78.293327  0.000000  1.120598   87.0   \n",
       "4          885.0     -90.0  1001.291578 -83.452392  0.000000  1.108927   90.0   \n",
       "\n",
       "   williams         CCI        UO  Label  target  \n",
       "0  0.820755  997.666667  0.154372    0.0   954.0  \n",
       "1  1.000000  966.666667  0.105707    0.0   917.0  \n",
       "2  1.000000  942.000000  0.069584    0.0   903.0  \n",
       "3  1.000000  932.000000  0.068895    0.0   885.0  \n",
       "4  1.000000  915.000000  0.108076    1.0   897.0  "
      ]
     },
     "execution_count": 5,
     "metadata": {},
     "output_type": "execute_result"
    }
   ],
   "source": [
    "#Using only tech indicators and closing price\n",
    "dataset = nepse_data.drop(\"news\", axis=1)\n",
    "dataset.head()"
   ]
  },
  {
   "cell_type": "code",
   "execution_count": 6,
   "metadata": {},
   "outputs": [
    {
     "data": {
      "image/png": "[encoded data removed]",
      "text/plain": [
       "<Figure size 432x288 with 1 Axes>"
      ]
     },
     "metadata": {
      "needs_background": "light"
     },
     "output_type": "display_data"
    }
   ],
   "source": [
    "hist = dataset.hist(\"Label\")"
   ]
  },
  {
   "cell_type": "code",
   "execution_count": 7,
   "metadata": {},
   "outputs": [
    {
     "data": {
      "text/html": [
       "<div>\n",
       "<style scoped>\n",
       "    .dataframe tbody tr th:only-of-type {\n",
       "        vertical-align: middle;\n",
       "    }\n",
       "\n",
       "    .dataframe tbody tr th {\n",
       "        vertical-align: top;\n",
       "    }\n",
       "\n",
       "    .dataframe thead th {\n",
       "        text-align: right;\n",
       "    }\n",
       "</style>\n",
       "<table border=\"1\" class=\"dataframe\">\n",
       "  <thead>\n",
       "    <tr style=\"text-align: right;\">\n",
       "      <th></th>\n",
       "      <th>closing_price</th>\n",
       "      <th>momentum</th>\n",
       "      <th>EMA</th>\n",
       "      <th>MACD</th>\n",
       "      <th>RSI</th>\n",
       "      <th>ROI</th>\n",
       "      <th>ATR</th>\n",
       "      <th>williams</th>\n",
       "      <th>CCI</th>\n",
       "      <th>UO</th>\n",
       "    </tr>\n",
       "  </thead>\n",
       "  <tbody>\n",
       "    <tr>\n",
       "      <th>0</th>\n",
       "      <td>975.0</td>\n",
       "      <td>-87.0</td>\n",
       "      <td>1087.863864</td>\n",
       "      <td>-58.947313</td>\n",
       "      <td>0.149378</td>\n",
       "      <td>1.126154</td>\n",
       "      <td>106.0</td>\n",
       "      <td>0.820755</td>\n",
       "      <td>997.666667</td>\n",
       "      <td>0.154372</td>\n",
       "    </tr>\n",
       "    <tr>\n",
       "      <th>1</th>\n",
       "      <td>954.0</td>\n",
       "      <td>-2.0</td>\n",
       "      <td>1067.269422</td>\n",
       "      <td>-65.253876</td>\n",
       "      <td>0.250000</td>\n",
       "      <td>1.122642</td>\n",
       "      <td>38.0</td>\n",
       "      <td>1.000000</td>\n",
       "      <td>966.666667</td>\n",
       "      <td>0.105707</td>\n",
       "    </tr>\n",
       "    <tr>\n",
       "      <th>2</th>\n",
       "      <td>917.0</td>\n",
       "      <td>-75.0</td>\n",
       "      <td>1044.151049</td>\n",
       "      <td>-72.401798</td>\n",
       "      <td>0.480000</td>\n",
       "      <td>1.135878</td>\n",
       "      <td>75.0</td>\n",
       "      <td>1.000000</td>\n",
       "      <td>942.000000</td>\n",
       "      <td>0.069584</td>\n",
       "    </tr>\n",
       "    <tr>\n",
       "      <th>3</th>\n",
       "      <td>903.0</td>\n",
       "      <td>-87.0</td>\n",
       "      <td>1022.435502</td>\n",
       "      <td>-78.293327</td>\n",
       "      <td>0.000000</td>\n",
       "      <td>1.120598</td>\n",
       "      <td>87.0</td>\n",
       "      <td>1.000000</td>\n",
       "      <td>932.000000</td>\n",
       "      <td>0.068895</td>\n",
       "    </tr>\n",
       "    <tr>\n",
       "      <th>4</th>\n",
       "      <td>885.0</td>\n",
       "      <td>-90.0</td>\n",
       "      <td>1001.291578</td>\n",
       "      <td>-83.452392</td>\n",
       "      <td>0.000000</td>\n",
       "      <td>1.108927</td>\n",
       "      <td>90.0</td>\n",
       "      <td>1.000000</td>\n",
       "      <td>915.000000</td>\n",
       "      <td>0.108076</td>\n",
       "    </tr>\n",
       "  </tbody>\n",
       "</table>\n",
       "</div>"
      ],
      "text/plain": [
       "   closing_price  momentum          EMA       MACD       RSI       ROI    ATR  \\\n",
       "0          975.0     -87.0  1087.863864 -58.947313  0.149378  1.126154  106.0   \n",
       "1          954.0      -2.0  1067.269422 -65.253876  0.250000  1.122642   38.0   \n",
       "2          917.0     -75.0  1044.151049 -72.401798  0.480000  1.135878   75.0   \n",
       "3          903.0     -87.0  1022.435502 -78.293327  0.000000  1.120598   87.0   \n",
       "4          885.0     -90.0  1001.291578 -83.452392  0.000000  1.108927   90.0   \n",
       "\n",
       "   williams         CCI        UO  \n",
       "0  0.820755  997.666667  0.154372  \n",
       "1  1.000000  966.666667  0.105707  \n",
       "2  1.000000  942.000000  0.069584  \n",
       "3  1.000000  932.000000  0.068895  \n",
       "4  1.000000  915.000000  0.108076  "
      ]
     },
     "execution_count": 7,
     "metadata": {},
     "output_type": "execute_result"
    }
   ],
   "source": [
    "X = dataset.drop([\"target\",\"Label\"], axis = 1)\n",
    "Y = dataset[\"Label\"]\n",
    "X.head()"
   ]
  },
  {
   "cell_type": "code",
   "execution_count": 8,
   "metadata": {},
   "outputs": [
    {
     "data": {
      "text/plain": [
       "0    0.0\n",
       "1    0.0\n",
       "2    0.0\n",
       "3    0.0\n",
       "4    1.0\n",
       "Name: Label, dtype: float64"
      ]
     },
     "execution_count": 8,
     "metadata": {},
     "output_type": "execute_result"
    }
   ],
   "source": [
    "Y.head()"
   ]
  },
  {
   "cell_type": "code",
   "execution_count": 45,
   "metadata": {},
   "outputs": [],
   "source": [
    "scaler = StandardScaler()\n",
    "scaler.fit(X.values)\n",
    "x_norm = pd.DataFrame(scaler.transform(X.values), index=X.index, columns=X.columns)"
   ]
  },
  {
   "cell_type": "markdown",
   "metadata": {},
   "source": [
    "# SVM Classifier"
   ]
  },
  {
   "cell_type": "code",
   "execution_count": 46,
   "metadata": {},
   "outputs": [
    {
     "name": "stdout",
     "output_type": "stream",
     "text": [
      "{'C': 100, 'kernel': 'sigmoid', 'random_state': 5}\n"
     ]
    },
    {
     "data": {
      "image/png": "[encoded data removed]",
      "text/plain": [
       "<Figure size 432x288 with 1 Axes>"
      ]
     },
     "metadata": {
      "needs_background": "light"
     },
     "output_type": "display_data"
    }
   ],
   "source": [
    "#Train Test split\n",
    "X_train, X_test, Y_train, Y_test = train_test_split(x_norm,Y,test_size=0.2,shuffle=False)\n",
    "test_hist = Y_test.hist()\n",
    "#define model\n",
    "model = SVC(random_state=5)\n",
    "#search for best hyperparameter\n",
    "grid_data = {'kernel': ['rbf', 'sigmoid'], 'C': [0.1, 1, 10, 100], 'random_state': [5]}\n",
    "grid = GridSearchCV(model, grid_data, scoring = 'f1').fit(X_train,Y_train)\n",
    "print(grid.best_params_)\n",
    "model = grid.best_estimator_\n"
   ]
  },
  {
   "cell_type": "code",
   "execution_count": 47,
   "metadata": {
    "scrolled": true
   },
   "outputs": [
    {
     "name": "stdout",
     "output_type": "stream",
     "text": [
      "[1. 1. 0. 0. 0. 1. 1. 1. 1. 1. 1. 1. 0. 0. 0. 0. 0. 0. 0. 0. 0. 0. 1. 1.\n",
      " 1. 1. 1. 0. 0. 0. 0. 0. 0. 0. 0. 0. 0. 0. 0. 0. 0. 0. 0. 0. 0. 0. 0. 0.\n",
      " 0. 0. 0. 0. 0. 0. 0. 0. 0. 0. 0. 0. 0. 0. 0. 0. 0. 0. 0. 0. 0. 0. 0. 0.\n",
      " 0. 0. 0. 0. 0. 0. 0. 0. 0. 0. 0. 1. 1. 0. 0. 0. 0. 0. 0. 0. 0. 0. 0. 1.\n",
      " 0. 0. 0. 0. 0. 0. 0. 1. 1. 1. 1. 1. 0. 0. 0. 0. 1. 1. 1. 1. 0. 0. 0. 0.\n",
      " 1. 1. 1. 0. 0. 0. 0. 0. 0. 0. 0. 0. 0. 0. 0. 0. 0. 0. 0. 0. 0. 0. 1. 1.\n",
      " 0. 1. 1. 1. 1. 0. 0. 1. 1. 1. 0. 0. 0. 0. 0. 1. 1. 0. 0. 0. 0. 0. 0. 0.\n",
      " 0. 0. 0. 0. 1. 1. 0. 0. 0. 0. 0. 0. 0. 0. 0. 0. 0. 0. 0. 0. 0. 1. 1. 1.\n",
      " 0. 0. 1. 1. 0. 0. 0. 0. 0. 0. 0. 0. 0. 0. 1. 0. 0. 1. 0. 1. 1. 0. 0. 0.\n",
      " 1. 0. 1. 1. 1. 1. 1. 1. 0. 0. 1. 1. 0. 1. 1. 0. 1. 1. 0. 0. 0. 0. 0. 0.\n",
      " 0. 0. 0. 1. 1. 1. 1. 1. 1. 0. 0. 1. 1. 1. 1. 1. 1. 1. 0. 0. 0. 0. 1. 1.]\n",
      "Accuracy Score: 52.27 %\n",
      "F1 Score: 0.3298\n"
     ]
    }
   ],
   "source": [
    "#Prediction\n",
    "y_pred = model.predict(X_test)\n",
    "print(y_pred)\n",
    "acc = accuracy_score(Y_test, y_pred)\n",
    "f1 = f1_score(Y_test, y_pred)\n",
    "print(\"Accuracy Score: {0:0.2f} %\".format(acc * 100))\n",
    "print(\"F1 Score: {0:0.4f}\".format(f1))\n"
   ]
  },
  {
   "cell_type": "markdown",
   "metadata": {},
   "source": [
    "# SVM Regression"
   ]
  },
  {
   "cell_type": "code",
   "execution_count": 48,
   "metadata": {},
   "outputs": [
    {
     "data": {
      "text/html": [
       "<div>\n",
       "<style scoped>\n",
       "    .dataframe tbody tr th:only-of-type {\n",
       "        vertical-align: middle;\n",
       "    }\n",
       "\n",
       "    .dataframe tbody tr th {\n",
       "        vertical-align: top;\n",
       "    }\n",
       "\n",
       "    .dataframe thead th {\n",
       "        text-align: right;\n",
       "    }\n",
       "</style>\n",
       "<table border=\"1\" class=\"dataframe\">\n",
       "  <thead>\n",
       "    <tr style=\"text-align: right;\">\n",
       "      <th></th>\n",
       "      <th>closing_price</th>\n",
       "      <th>momentum</th>\n",
       "      <th>EMA</th>\n",
       "      <th>MACD</th>\n",
       "      <th>RSI</th>\n",
       "      <th>ROI</th>\n",
       "      <th>ATR</th>\n",
       "      <th>williams</th>\n",
       "      <th>CCI</th>\n",
       "      <th>UO</th>\n",
       "    </tr>\n",
       "  </thead>\n",
       "  <tbody>\n",
       "    <tr>\n",
       "      <th>0</th>\n",
       "      <td>-1.769629</td>\n",
       "      <td>-0.751830</td>\n",
       "      <td>-1.547293</td>\n",
       "      <td>-1.100855</td>\n",
       "      <td>-0.331177</td>\n",
       "      <td>2.667207</td>\n",
       "      <td>0.160012</td>\n",
       "      <td>0.727474</td>\n",
       "      <td>-1.725909</td>\n",
       "      <td>-1.280679</td>\n",
       "    </tr>\n",
       "    <tr>\n",
       "      <th>1</th>\n",
       "      <td>-1.816039</td>\n",
       "      <td>0.010508</td>\n",
       "      <td>-1.593452</td>\n",
       "      <td>-1.219465</td>\n",
       "      <td>-0.319227</td>\n",
       "      <td>2.591076</td>\n",
       "      <td>-0.296228</td>\n",
       "      <td>1.158930</td>\n",
       "      <td>-1.794748</td>\n",
       "      <td>-1.462921</td>\n",
       "    </tr>\n",
       "    <tr>\n",
       "      <th>2</th>\n",
       "      <td>-1.897810</td>\n",
       "      <td>-0.644206</td>\n",
       "      <td>-1.645269</td>\n",
       "      <td>-1.353898</td>\n",
       "      <td>-0.291911</td>\n",
       "      <td>2.877979</td>\n",
       "      <td>-0.047980</td>\n",
       "      <td>1.158930</td>\n",
       "      <td>-1.849524</td>\n",
       "      <td>-1.598194</td>\n",
       "    </tr>\n",
       "    <tr>\n",
       "      <th>3</th>\n",
       "      <td>-1.928751</td>\n",
       "      <td>-0.751830</td>\n",
       "      <td>-1.693941</td>\n",
       "      <td>-1.464702</td>\n",
       "      <td>-0.348918</td>\n",
       "      <td>2.546782</td>\n",
       "      <td>0.032533</td>\n",
       "      <td>1.158930</td>\n",
       "      <td>-1.871730</td>\n",
       "      <td>-1.600776</td>\n",
       "    </tr>\n",
       "    <tr>\n",
       "      <th>4</th>\n",
       "      <td>-1.968531</td>\n",
       "      <td>-0.778736</td>\n",
       "      <td>-1.741331</td>\n",
       "      <td>-1.561730</td>\n",
       "      <td>-0.348918</td>\n",
       "      <td>2.293798</td>\n",
       "      <td>0.052661</td>\n",
       "      <td>1.158930</td>\n",
       "      <td>-1.909481</td>\n",
       "      <td>-1.454049</td>\n",
       "    </tr>\n",
       "  </tbody>\n",
       "</table>\n",
       "</div>"
      ],
      "text/plain": [
       "   closing_price  momentum       EMA      MACD       RSI       ROI       ATR  \\\n",
       "0      -1.769629 -0.751830 -1.547293 -1.100855 -0.331177  2.667207  0.160012   \n",
       "1      -1.816039  0.010508 -1.593452 -1.219465 -0.319227  2.591076 -0.296228   \n",
       "2      -1.897810 -0.644206 -1.645269 -1.353898 -0.291911  2.877979 -0.047980   \n",
       "3      -1.928751 -0.751830 -1.693941 -1.464702 -0.348918  2.546782  0.032533   \n",
       "4      -1.968531 -0.778736 -1.741331 -1.561730 -0.348918  2.293798  0.052661   \n",
       "\n",
       "   williams       CCI        UO  \n",
       "0  0.727474 -1.725909 -1.280679  \n",
       "1  1.158930 -1.794748 -1.462921  \n",
       "2  1.158930 -1.849524 -1.598194  \n",
       "3  1.158930 -1.871730 -1.600776  \n",
       "4  1.158930 -1.909481 -1.454049  "
      ]
     },
     "execution_count": 48,
     "metadata": {},
     "output_type": "execute_result"
    }
   ],
   "source": [
    "\n",
    "y = dataset[\"target\"]\n",
    "x_norm.head()"
   ]
  },
  {
   "cell_type": "code",
   "execution_count": 49,
   "metadata": {},
   "outputs": [
    {
     "name": "stdout",
     "output_type": "stream",
     "text": [
      "SVR(C=1000.0, cache_size=200, coef0=0.0, degree=3, epsilon=0.1, gamma=0.1,\n",
      "  kernel='rbf', max_iter=-1, shrinking=True, tol=0.001, verbose=False)\n"
     ]
    },
    {
     "data": {
      "text/plain": [
       "SVR(C=1000.0, cache_size=200, coef0=0.0, degree=3, epsilon=0.1, gamma=0.1,\n",
       "  kernel='rbf', max_iter=-1, shrinking=True, tol=0.001, verbose=False)"
      ]
     },
     "execution_count": 49,
     "metadata": {},
     "output_type": "execute_result"
    }
   ],
   "source": [
    "x_train, x_test, y_train, y_test = train_test_split(x_norm,y,test_size=0.2,shuffle=False)\n",
    "regression_model = SVR(kernel='rbf', C=1e3, gamma=0.1)\n",
    "print(regression_model)\n",
    "regression_model.fit(x_train,y_train)\n",
    "\n"
   ]
  },
  {
   "cell_type": "code",
   "execution_count": 50,
   "metadata": {},
   "outputs": [
    {
     "name": "stdout",
     "output_type": "stream",
     "text": [
      "2288.844401340854   39.217765598518554\n"
     ]
    },
    {
     "data": {
      "image/png": "[encoded data removed]",
      "text/plain": [
       "<Figure size 432x288 with 1 Axes>"
      ]
     },
     "metadata": {
      "needs_background": "light"
     },
     "output_type": "display_data"
    }
   ],
   "source": [
    "\n",
    "Y_pred = regression_model.predict(x_test)\n",
    "stdev = np.sqrt(sum((regression_model.predict(x_train) - y_train)**2) / (len(y_train) - 2))\n",
    "print(Y_pred[0], ' ', stdev)\n",
    "higher = Y_pred + 1.96*stdev\n",
    "lower = Y_pred - 1.96*stdev\n",
    "#print(higher[0])\n",
    "x = range(264)\n",
    "plt.plot(x, y_test,color='red', label='true data')\n",
    "#plt.plot(x, Y_pred, color='green', label='predicted')\n",
    "\n",
    "plt.fill_between(x,higher,lower,edgecolor='#1B2ACC', facecolor='#089FFF')\n",
    "plt.legend(loc = \"upper right\")\n",
    "plt.show()"
   ]
  },
  {
   "cell_type": "code",
   "execution_count": 51,
   "metadata": {},
   "outputs": [
    {
     "data": {
      "text/plain": [
       "0.939372695832631"
      ]
     },
     "execution_count": 51,
     "metadata": {},
     "output_type": "execute_result"
    }
   ],
   "source": [
    "regression_model.score(x_test,y_test)"
   ]
  },
  {
   "cell_type": "code",
   "execution_count": 59,
   "metadata": {},
   "outputs": [],
   "source": [
    "class StockPredictor():\n",
    "    def __init__(self,x_train,kernel='rbf', C=1e3, gamma=0.1):\n",
    "        self.predictor = SVR(kernel=kernel, C=C, gamma=gamma)\n",
    "        self.scaler = StandardScaler()\n",
    "        self.scaler.fit(x_train.values)\n",
    "        self.stdev = None\n",
    "        \n",
    "        \n",
    "    def train(self,x,y):\n",
    "        self.predictor.fit(x,y)\n",
    "        self.stdev = np.sqrt(sum((self.predictor.predict(x) - y)**2) / (len(y) - 2))   \n",
    "        \n",
    "    def predict(self,X,critical_value):\n",
    "        x_n = self.scaler.transform(X.values)\n",
    "        x_n = pd.DataFrame(x_n, index=X.index, columns=X.columns)\n",
    "        yhat = self.predictor.predict(X)\n",
    "        higher, lower = yhat + critical_value * self.stdev, yhat - critical_value * self.stdev\n",
    "        return higher, lower\n",
    "        \n",
    "        "
   ]
  },
  {
   "cell_type": "code",
   "execution_count": 60,
   "metadata": {},
   "outputs": [],
   "source": [
    "st_pred = StockPredictor(x_train)"
   ]
  },
  {
   "cell_type": "code",
   "execution_count": 63,
   "metadata": {},
   "outputs": [],
   "source": [
    "st_pred.train(x_train,y_train)\n",
    "model_filename = 'stock_predictor.sav'\n",
    "pickle.dump(st_pred,open(model_filename, 'wb'))"
   ]
  },
  {
   "cell_type": "code",
   "execution_count": 64,
   "metadata": {},
   "outputs": [
    {
     "data": {
      "image/png": "[encoded data removed]",
      "text/plain": [
       "<Figure size 432x288 with 1 Axes>"
      ]
     },
     "metadata": {
      "needs_background": "light"
     },
     "output_type": "display_data"
    }
   ],
   "source": [
    "predictor = pickle.load(open('stock_predictor.sav','rb'))\n",
    "upper, lower = predictor.predict(x_test,1.96)\n",
    "x_axis = range(264)\n",
    "plt.plot(x_axis, y_test,color='red', label='true data')\n",
    "#plt.plot(x, Y_pred, color='green', label='predicted')\n",
    "\n",
    "plt.fill_between(x_axis,upper,lower,edgecolor='#1B2ACC', facecolor='#089FFF')\n",
    "plt.legend(loc = \"upper right\")\n",
    "plt.show()"
   ]
  },
  {
   "cell_type": "code",
   "execution_count": null,
   "metadata": {},
   "outputs": [],
   "source": []
  }
 ],
 "metadata": {
  "kernelspec": {
   "display_name": "Python 3",
   "language": "python",
   "name": "python3"
  },
  "language_info": {
   "codemirror_mode": {
    "name": "ipython",
    "version": 3
   },
   "file_extension": ".py",
   "mimetype": "text/x-python",
   "name": "python",
   "nbconvert_exporter": "python",
   "pygments_lexer": "ipython3",
   "version": "3.6.3"
  }
 },
 "nbformat": 4,
 "nbformat_minor": 2
}
