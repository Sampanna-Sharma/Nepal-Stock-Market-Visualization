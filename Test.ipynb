{
 "cells": [
  {
   "cell_type": "code",
   "execution_count": 1,
   "metadata": {},
   "outputs": [],
   "source": [
    "import pickle\n",
    "import pandas as pd\n",
    "#from sklearn.externals import joblib\n",
    "#from StockCLass import StockPredictor"
   ]
  },
  {
   "cell_type": "code",
   "execution_count": 2,
   "metadata": {},
   "outputs": [
    {
     "data": {
      "text/plain": [
       "0    975.0\n",
       "Name: closing_price, dtype: float64"
      ]
     },
     "execution_count": 2,
     "metadata": {},
     "output_type": "execute_result"
    }
   ],
   "source": [
    "features = {'closing_price':975.0, 'momentum':-87.0, 'EMA':1087.863864,'MACD':-58.947313, 'RSI':0.149378, 'ROI':1.126154, 'ATR':106.0, 'c':0.820755, 'd':997.666667, 'e':0.154372}\n",
    "features = pd.DataFrame(features, index=[0])\n",
    "features.closing_price"
   ]
  },
  {
   "cell_type": "code",
   "execution_count": 3,
   "metadata": {},
   "outputs": [
    {
     "name": "stdout",
     "output_type": "stream",
     "text": [
      "39.258120389933424\n",
      "954 [1924.70960447] [1770.81777255]\n"
     ]
    }
   ],
   "source": [
    "p = pickle.load(open('stock_predictor.obj','rb'))\n",
    "print(p.stdev)\n",
    "u, l = p.predict(features, 1.96)\n",
    "print(954,u,l)"
   ]
  },
  {
   "cell_type": "code",
   "execution_count": null,
   "metadata": {},
   "outputs": [],
   "source": []
  }
 ],
 "metadata": {
  "kernelspec": {
   "display_name": "Python 3",
   "language": "python",
   "name": "python3"
  },
  "language_info": {
   "codemirror_mode": {
    "name": "ipython",
    "version": 3
   },
   "file_extension": ".py",
   "mimetype": "text/x-python",
   "name": "python",
   "nbconvert_exporter": "python",
   "pygments_lexer": "ipython3",
   "version": "3.6.3"
  }
 },
 "nbformat": 4,
 "nbformat_minor": 2
}
