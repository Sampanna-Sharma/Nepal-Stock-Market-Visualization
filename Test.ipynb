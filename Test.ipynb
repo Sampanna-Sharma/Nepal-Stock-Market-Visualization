{
 "cells": [
  {
   "cell_type": "code",
   "execution_count": 2,
   "metadata": {},
   "outputs": [],
   "source": [
    "import pickle\n",
    "import pandas as pd\n",
    "#from sklearn.externals import joblib\n",
    "#from StockCLass import StockPredictor"
   ]
  },
  {
   "cell_type": "code",
   "execution_count": 3,
   "metadata": {},
   "outputs": [
    {
     "name": "stdout",
     "output_type": "stream",
     "text": [
      "       a     b            c          d         e         f      g         h  \\\n",
      "0  975.0 -87.0  1087.863864 -58.947313  0.149378  1.126154  106.0  0.820755   \n",
      "\n",
      "            i         j  \n",
      "0  997.666667  0.154372  \n"
     ]
    }
   ],
   "source": [
    "features = {'a':975.0, 'b':-87.0, 'c':1087.863864,'d':-58.947313, 'e':0.149378, 'f':1.126154, 'g':106.0, 'h':0.820755, 'i':997.666667, 'j':0.154372}\n",
    "features = pd.DataFrame(features, index=[0])\n",
    "print(features)"
   ]
  },
  {
   "cell_type": "code",
   "execution_count": 4,
   "metadata": {},
   "outputs": [
    {
     "name": "stdout",
     "output_type": "stream",
     "text": [
      "39.258120389933424\n",
      "          a         b         c        d         e         f         g  \\\n",
      "0 -1.753797 -0.784523 -1.527827 -1.27245 -0.324548  2.988015  0.130453   \n",
      "\n",
      "          h         i         j  \n",
      "0  0.746596 -1.707131 -1.346301  \n",
      "954 999.4628704647141 845.5710385361751\n"
     ]
    }
   ],
   "source": [
    "p = pickle.load(open('stock_predictor.obj','rb'))\n",
    "print(p.stdev)\n",
    "u, l = p.predict(features, 1.96)\n",
    "print(954,u[0],l[0])"
   ]
  },
  {
   "cell_type": "code",
   "execution_count": null,
   "metadata": {},
   "outputs": [],
   "source": []
  }
 ],
 "metadata": {
  "kernelspec": {
   "display_name": "Python 3",
   "language": "python",
   "name": "python3"
  },
  "language_info": {
   "codemirror_mode": {
    "name": "ipython",
    "version": 3
   },
   "file_extension": ".py",
   "mimetype": "text/x-python",
   "name": "python",
   "nbconvert_exporter": "python",
   "pygments_lexer": "ipython3",
   "version": "3.6.3"
  }
 },
 "nbformat": 4,
 "nbformat_minor": 2
}
