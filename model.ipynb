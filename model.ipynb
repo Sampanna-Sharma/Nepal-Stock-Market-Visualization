{
 "cells": [
  {
   "cell_type": "code",
   "execution_count": 208,
   "metadata": {},
   "outputs": [],
   "source": [
    "import torch.nn as nn\n",
    "import torch.nn.functional as F\n",
    "import torch\n",
    "import numpy\n",
    "from torch.utils.data import DataLoader\n",
    "import torchvision.transforms as transforms\n",
    "\n",
    "numpy.random.seed(1)"
   ]
  },
  {
   "cell_type": "code",
   "execution_count": 215,
   "metadata": {
    "scrolled": true
   },
   "outputs": [],
   "source": [
    "#Need correction\n",
    "class StockNN(nn.Module):\n",
    "    def __init__(self, input_dim):\n",
    "        super(StockNN, self).__init__()\n",
    "        self.conv_21 = nn.Conv2d(1,1, kernel_size=(2,input_dim[3]))\n",
    "        self.conv_22 = nn.Conv2d(1,1, kernel_size=(2,input_dim[3]))\n",
    "        \n",
    "        self.conv_31 = nn.Conv2d(1,1, kernel_size=(3,input_dim[3]), stride=1)\n",
    "        self.conv_32 = nn.Conv2d(1,1, kernel_size=(3,input_dim[3]), stride=1)\n",
    "        \n",
    "        self.conv_41 = nn.Conv2d(1,1, kernel_size=(4,input_dim[3]), stride=1)\n",
    "        self.conv_42 = nn.Conv2d(1,1, kernel_size=(4,input_dim[3]), stride=1)\n",
    "        \n",
    "        self.max_pool_2 = nn.MaxPool2d(kernel_size=((input_dim[2]-2)+1,1))\n",
    "        self.max_pool_3 = nn.MaxPool2d(kernel_size=((input_dim[2]-3)+1,1))\n",
    "        self.max_pool_4 = nn.MaxPool2d(kernel_size=((input_dim[2]- 4)+1,1))\n",
    "        \n",
    "        \n",
    "    def forward(self,x):\n",
    "        x_21 = self.max_pool_2(F.relu(self.conv_21(x)))\n",
    "        x_21 = x_21.view(x_21.size(0), -1)\n",
    "        x_22 = self.max_pool_2(F.relu(self.conv_22(x)))\n",
    "        x_22 = x_22.view(x_22.size(0), -1)\n",
    "        \n",
    "        \n",
    "        x_31 = self.max_pool_3(F.relu(self.conv_31(x)))\n",
    "        x_31 = x_31.view(x_31.size(0), -1)\n",
    "        x_32 = self.max_pool_3(F.relu(self.conv_32(x)))\n",
    "        x_32 = x_32.view(x_32.size(0), -1)\n",
    "        \n",
    "        x_41 = self.max_pool_4(F.relu(self.conv_41(x)))\n",
    "        x_41 = x_41.view(x_41.size(0), -1)\n",
    "        x_42 = self.max_pool_4(F.relu(self.conv_42(x)))\n",
    "        x_42 = x_42.view(x_42.size(0), -1)\n",
    "        \n",
    "        x = torch.cat((x_21,x_22,x_31,x_32,x_41,x_42)).squeeze()\n",
    "        \n",
    "        return x\n"
   ]
  },
  {
   "cell_type": "code",
   "execution_count": 216,
   "metadata": {},
   "outputs": [
    {
     "name": "stdout",
     "output_type": "stream",
     "text": [
      "torch.Size([1, 1, 6, 100])\n"
     ]
    }
   ],
   "source": [
    "\n",
    "test = numpy.random.randn(6,100)\n",
    "\n",
    "#To make sure the dimension is (batch_size, input_channel, input_dim[0], input_dim[1])\n",
    "test = test.reshape(test.shape[0],test.shape[1],1,1)\n",
    "test = test.transpose(3,2,0,1)\n",
    "\n",
    "test_data = torch.from_numpy(test).float() #make sure the data type is float before feeding to nerwork\n",
    "print(test_data.shape)\n",
    "\n"
   ]
  },
  {
   "cell_type": "code",
   "execution_count": 217,
   "metadata": {},
   "outputs": [],
   "source": [
    "test_net = StockNN(test_data.shape)"
   ]
  },
  {
   "cell_type": "code",
   "execution_count": 218,
   "metadata": {},
   "outputs": [],
   "source": [
    "conv_out = test_net(test_data)"
   ]
  },
  {
   "cell_type": "code",
   "execution_count": 219,
   "metadata": {},
   "outputs": [
    {
     "name": "stdout",
     "output_type": "stream",
     "text": [
      "tensor([0.3951, 0.4144, 1.3577, 0.5233, 0.6143, 0.0771],\n",
      "       grad_fn=<SqueezeBackward0>)\n"
     ]
    }
   ],
   "source": [
    "print(conv_out)"
   ]
  },
  {
   "cell_type": "code",
   "execution_count": null,
   "metadata": {},
   "outputs": [],
   "source": []
  }
 ],
 "metadata": {
  "kernelspec": {
   "display_name": "Python 3",
   "language": "python",
   "name": "python3"
  },
  "language_info": {
   "codemirror_mode": {
    "name": "ipython",
    "version": 3
   },
   "file_extension": ".py",
   "mimetype": "text/x-python",
   "name": "python",
   "nbconvert_exporter": "python",
   "pygments_lexer": "ipython3",
   "version": "3.6.3"
  }
 },
 "nbformat": 4,
 "nbformat_minor": 2
}
