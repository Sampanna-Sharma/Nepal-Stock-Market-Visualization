{
 "cells": [
  {
   "cell_type": "code",
   "execution_count": 1,
   "metadata": {},
   "outputs": [],
   "source": [
    "import gensim\n",
    "import nltk\n",
    "import pandas as pd"
   ]
  },
  {
   "cell_type": "code",
   "execution_count": 2,
   "metadata": {},
   "outputs": [],
   "source": [
    "def lower(x):\n",
    "    return x.lower()"
   ]
  },
  {
   "cell_type": "code",
   "execution_count": 8,
   "metadata": {},
   "outputs": [],
   "source": [
    "df = pd.read_csv('news_data.csv')\n",
    "df['news'] = df['news'].apply(lower)\n",
    "news_list = df['news'].to_list()\n",
    "news_corpus = ' '.join(news_list)"
   ]
  },
  {
   "cell_type": "code",
   "execution_count": 12,
   "metadata": {},
   "outputs": [
    {
     "data": {
      "text/plain": [
       "'a_b'"
      ]
     },
     "execution_count": 12,
     "metadata": {},
     "output_type": "execute_result"
    }
   ],
   "source": [
    "\"_\".join(['a','b'])"
   ]
  },
  {
   "cell_type": "code",
   "execution_count": 5,
   "metadata": {},
   "outputs": [],
   "source": [
    "stop_words = nltk.corpus.stopwords.words('english')"
   ]
  },
  {
   "cell_type": "code",
   "execution_count": 6,
   "metadata": {},
   "outputs": [],
   "source": [
    "tokens = nltk.tokenize.word_tokenize(news_corpus)"
   ]
  },
  {
   "cell_type": "code",
   "execution_count": 7,
   "metadata": {},
   "outputs": [],
   "source": [
    "bigrams = nltk.collocations.BigramAssocMeasures()\n",
    "trigrams = nltk.collocations.TrigramAssocMeasures()\n",
    "#quadgrams = nltk.metrics.QuadgramAssocMeasures()"
   ]
  },
  {
   "cell_type": "code",
   "execution_count": 8,
   "metadata": {},
   "outputs": [],
   "source": [
    "bigramFinder = nltk.collocations.BigramCollocationFinder.from_words(tokens)\n",
    "trigramFinder = nltk.collocations.TrigramCollocationFinder.from_words(tokens)\n",
    "#quadgramFinder = nltk.collocations.QuadgramCollocationFinder.from_words(tokens)"
   ]
  },
  {
   "cell_type": "code",
   "execution_count": 9,
   "metadata": {},
   "outputs": [],
   "source": [
    "bigramFinder.apply_freq_filter(120)\n",
    "trigramFinder.apply_freq_filter(30)\n",
    "#quadgramFinder.apply_freq_filter(5)"
   ]
  },
  {
   "cell_type": "code",
   "execution_count": 10,
   "metadata": {},
   "outputs": [],
   "source": [
    "# FILTER\n",
    "# NOUN AND NOUN FOR BIGRAM\n",
    "# NOUN, ANYTHING AND NOUN FOR TRIGRAM\n",
    "\n",
    "#get english stopwords\n",
    "import string\n",
    "en_stopwords = set(stop_words)\n",
    "#function to filter for ADJ/NN bigrams\n",
    "def rightTypes(ngram):\n",
    "    for word in ngram:\n",
    "        if word in en_stopwords or word.isspace() or word in (string.punctuation + '’') or word.isdigit():\n",
    "            return False\n",
    "    acceptable_types = ('JJ', 'JJR', 'JJS', 'NN', 'NNS', 'NNP', 'NNPS')\n",
    "    second_type = ('NN', 'NNS', 'NNP', 'NNPS')\n",
    "    tags = nltk.pos_tag(ngram)\n",
    "    if tags[0][1] in acceptable_types and tags[1][1] in second_type:\n",
    "        return True\n",
    "    else:\n",
    "        return False\n",
    "\n",
    "#function to filter for trigrams\n",
    "def rightTypesTri(ngram):\n",
    "    for word in ngram:\n",
    "        if word in en_stopwords or word.isspace() or word in (string.punctuation + '’') or word.isdigit():\n",
    "            return False\n",
    "    first_type = ('NN', 'NNS', 'NNP', 'NNPS')\n",
    "    third_type = ('JJ', 'JJR', 'JJS', 'NN', 'NNS', 'NNP', 'NNPS')\n",
    "    tags = nltk.pos_tag(ngram)\n",
    "    if tags[0][1] in first_type and tags[2][1] in third_type:\n",
    "        return True\n",
    "    else:\n",
    "        return False\n"
   ]
  },
  {
   "cell_type": "code",
   "execution_count": 11,
   "metadata": {},
   "outputs": [],
   "source": [
    "bigramTtable = pd.DataFrame(list(bigramFinder.score_ngrams(bigrams.student_t)), columns=['bigram','t']).sort_values(by='t', ascending=False)\n",
    "trigramTtable = pd.DataFrame(list(trigramFinder.score_ngrams(trigrams.student_t)), columns=['trigram','t']).sort_values(by='t', ascending=False)"
   ]
  },
  {
   "cell_type": "code",
   "execution_count": 12,
   "metadata": {},
   "outputs": [],
   "source": [
    "#filters\n",
    "filteredT_bi = bigramTtable[bigramTtable.bigram.map(lambda x: rightTypes(x))]\n",
    "filteredT_tri = trigramTtable[trigramTtable.trigram.map(lambda x: rightTypesTri(x))]"
   ]
  },
  {
   "cell_type": "code",
   "execution_count": 13,
   "metadata": {
    "scrolled": true
   },
   "outputs": [
    {
     "data": {
      "text/html": [
       "<div>\n",
       "<style scoped>\n",
       "    .dataframe tbody tr th:only-of-type {\n",
       "        vertical-align: middle;\n",
       "    }\n",
       "\n",
       "    .dataframe tbody tr th {\n",
       "        vertical-align: top;\n",
       "    }\n",
       "\n",
       "    .dataframe thead th {\n",
       "        text-align: right;\n",
       "    }\n",
       "</style>\n",
       "<table border=\"1\" class=\"dataframe\">\n",
       "  <thead>\n",
       "    <tr style=\"text-align: right;\">\n",
       "      <th></th>\n",
       "      <th>trigram</th>\n",
       "      <th>t</th>\n",
       "    </tr>\n",
       "  </thead>\n",
       "  <tbody>\n",
       "    <tr>\n",
       "      <th>8</th>\n",
       "      <td>(quarter, company, analysis)</td>\n",
       "      <td>41.363129</td>\n",
       "    </tr>\n",
       "    <tr>\n",
       "      <th>110</th>\n",
       "      <td>(muktinath, bikas, bank)</td>\n",
       "      <td>14.931445</td>\n",
       "    </tr>\n",
       "    <tr>\n",
       "      <th>124</th>\n",
       "      <td>(bonus, share, certificate)</td>\n",
       "      <td>14.247273</td>\n",
       "    </tr>\n",
       "    <tr>\n",
       "      <th>139</th>\n",
       "      <td>(century, commercial, bank)</td>\n",
       "      <td>13.637708</td>\n",
       "    </tr>\n",
       "    <tr>\n",
       "      <th>147</th>\n",
       "      <td>(cash, dividend, warrant)</td>\n",
       "      <td>13.341582</td>\n",
       "    </tr>\n",
       "    <tr>\n",
       "      <th>153</th>\n",
       "      <td>(life, insurance, company)</td>\n",
       "      <td>13.226763</td>\n",
       "    </tr>\n",
       "    <tr>\n",
       "      <th>167</th>\n",
       "      <td>(units, bonus, shares)</td>\n",
       "      <td>12.761222</td>\n",
       "    </tr>\n",
       "    <tr>\n",
       "      <th>205</th>\n",
       "      <td>(jyoti, bikas, bank)</td>\n",
       "      <td>11.830677</td>\n",
       "    </tr>\n",
       "    <tr>\n",
       "      <th>214</th>\n",
       "      <td>(units, bonus, share)</td>\n",
       "      <td>11.570803</td>\n",
       "    </tr>\n",
       "    <tr>\n",
       "      <th>225</th>\n",
       "      <td>(units, ipo, shares)</td>\n",
       "      <td>11.440001</td>\n",
       "    </tr>\n",
       "    <tr>\n",
       "      <th>228</th>\n",
       "      <td>(sewa, bikas, bank)</td>\n",
       "      <td>11.312307</td>\n",
       "    </tr>\n",
       "    <tr>\n",
       "      <th>230</th>\n",
       "      <td>(worth, per, share)</td>\n",
       "      <td>11.269110</td>\n",
       "    </tr>\n",
       "    <tr>\n",
       "      <th>239</th>\n",
       "      <td>(gandaki, bikas, bank)</td>\n",
       "      <td>11.089065</td>\n",
       "    </tr>\n",
       "    <tr>\n",
       "      <th>240</th>\n",
       "      <td>(icra, nepal, assigns)</td>\n",
       "      <td>11.045320</td>\n",
       "    </tr>\n",
       "    <tr>\n",
       "      <th>241</th>\n",
       "      <td>(unit, right, shares)</td>\n",
       "      <td>11.042001</td>\n",
       "    </tr>\n",
       "    <tr>\n",
       "      <th>242</th>\n",
       "      <td>(rastriya, banijya, bank)</td>\n",
       "      <td>10.954369</td>\n",
       "    </tr>\n",
       "    <tr>\n",
       "      <th>267</th>\n",
       "      <td>(garima, bikas, bank)</td>\n",
       "      <td>10.390960</td>\n",
       "    </tr>\n",
       "    <tr>\n",
       "      <th>274</th>\n",
       "      <td>(laghubitta, bikas, bank)</td>\n",
       "      <td>10.332710</td>\n",
       "    </tr>\n",
       "    <tr>\n",
       "      <th>275</th>\n",
       "      <td>(units, ordinary, shares)</td>\n",
       "      <td>10.293927</td>\n",
       "    </tr>\n",
       "    <tr>\n",
       "      <th>286</th>\n",
       "      <td>(ltp, stood, rs)</td>\n",
       "      <td>10.049489</td>\n",
       "    </tr>\n",
       "    <tr>\n",
       "      <th>299</th>\n",
       "      <td>(units, ipo, share)</td>\n",
       "      <td>9.843913</td>\n",
       "    </tr>\n",
       "    <tr>\n",
       "      <th>308</th>\n",
       "      <td>(units, promoter, shares)</td>\n",
       "      <td>9.744488</td>\n",
       "    </tr>\n",
       "    <tr>\n",
       "      <th>312</th>\n",
       "      <td>(standard, chartered, bank)</td>\n",
       "      <td>9.643558</td>\n",
       "    </tr>\n",
       "    <tr>\n",
       "      <th>315</th>\n",
       "      <td>(kailash, bikas, bank)</td>\n",
       "      <td>9.590558</td>\n",
       "    </tr>\n",
       "    <tr>\n",
       "      <th>326</th>\n",
       "      <td>(units, right, shares)</td>\n",
       "      <td>9.423780</td>\n",
       "    </tr>\n",
       "    <tr>\n",
       "      <th>332</th>\n",
       "      <td>(hamro, bikas, bank)</td>\n",
       "      <td>9.326313</td>\n",
       "    </tr>\n",
       "    <tr>\n",
       "      <th>337</th>\n",
       "      <td>(percent, cash, dividend)</td>\n",
       "      <td>9.164919</td>\n",
       "    </tr>\n",
       "    <tr>\n",
       "      <th>343</th>\n",
       "      <td>(citizens, bank, international)</td>\n",
       "      <td>8.999500</td>\n",
       "    </tr>\n",
       "    <tr>\n",
       "      <th>344</th>\n",
       "      <td>(gurans, life, insurance)</td>\n",
       "      <td>8.944168</td>\n",
       "    </tr>\n",
       "    <tr>\n",
       "      <th>364</th>\n",
       "      <td>(lumbini, general, insurance)</td>\n",
       "      <td>8.717510</td>\n",
       "    </tr>\n",
       "    <tr>\n",
       "      <th>...</th>\n",
       "      <td>...</td>\n",
       "      <td>...</td>\n",
       "    </tr>\n",
       "    <tr>\n",
       "      <th>857</th>\n",
       "      <td>(mahakali, bikas, bank)</td>\n",
       "      <td>6.163638</td>\n",
       "    </tr>\n",
       "    <tr>\n",
       "      <th>858</th>\n",
       "      <td>(life, insurance, companies)</td>\n",
       "      <td>6.163486</td>\n",
       "    </tr>\n",
       "    <tr>\n",
       "      <th>881</th>\n",
       "      <td>(city, development, bank)</td>\n",
       "      <td>6.081063</td>\n",
       "    </tr>\n",
       "    <tr>\n",
       "      <th>890</th>\n",
       "      <td>(bikas, bank, announces)</td>\n",
       "      <td>6.076703</td>\n",
       "    </tr>\n",
       "    <tr>\n",
       "      <th>913</th>\n",
       "      <td>(reports, net, loss)</td>\n",
       "      <td>5.999496</td>\n",
       "    </tr>\n",
       "    <tr>\n",
       "      <th>915</th>\n",
       "      <td>(units, auctioned, shares)</td>\n",
       "      <td>5.998264</td>\n",
       "    </tr>\n",
       "    <tr>\n",
       "      <th>934</th>\n",
       "      <td>(nirdhan, utthan, bank)</td>\n",
       "      <td>5.916024</td>\n",
       "    </tr>\n",
       "    <tr>\n",
       "      <th>941</th>\n",
       "      <td>(civic, development, bank)</td>\n",
       "      <td>5.915497</td>\n",
       "    </tr>\n",
       "    <tr>\n",
       "      <th>942</th>\n",
       "      <td>(gurkha, development, bank)</td>\n",
       "      <td>5.915206</td>\n",
       "    </tr>\n",
       "    <tr>\n",
       "      <th>952</th>\n",
       "      <td>(energy, development, bank)</td>\n",
       "      <td>5.913278</td>\n",
       "    </tr>\n",
       "    <tr>\n",
       "      <th>976</th>\n",
       "      <td>(insurance, co., ltd.)</td>\n",
       "      <td>5.830804</td>\n",
       "    </tr>\n",
       "    <tr>\n",
       "      <th>983</th>\n",
       "      <td>(diyalo, bikas, bank)</td>\n",
       "      <td>5.830228</td>\n",
       "    </tr>\n",
       "    <tr>\n",
       "      <th>985</th>\n",
       "      <td>(biratlaxmi, bikas, bank)</td>\n",
       "      <td>5.830115</td>\n",
       "    </tr>\n",
       "    <tr>\n",
       "      <th>987</th>\n",
       "      <td>(karnali, development, bank)</td>\n",
       "      <td>5.829629</td>\n",
       "    </tr>\n",
       "    <tr>\n",
       "      <th>1016</th>\n",
       "      <td>(bank, signs, agreement)</td>\n",
       "      <td>5.744159</td>\n",
       "    </tr>\n",
       "    <tr>\n",
       "      <th>1019</th>\n",
       "      <td>(unit, auctioned, shares)</td>\n",
       "      <td>5.743863</td>\n",
       "    </tr>\n",
       "    <tr>\n",
       "      <th>1068</th>\n",
       "      <td>(alpine, development, bank)</td>\n",
       "      <td>5.655911</td>\n",
       "    </tr>\n",
       "    <tr>\n",
       "      <th>1092</th>\n",
       "      <td>(bank, agm, today)</td>\n",
       "      <td>5.615114</td>\n",
       "    </tr>\n",
       "    <tr>\n",
       "      <th>1097</th>\n",
       "      <td>(assigns, ipo, grade)</td>\n",
       "      <td>5.567733</td>\n",
       "    </tr>\n",
       "    <tr>\n",
       "      <th>1098</th>\n",
       "      <td>(offer, ends, today)</td>\n",
       "      <td>5.567615</td>\n",
       "    </tr>\n",
       "    <tr>\n",
       "      <th>1117</th>\n",
       "      <td>(b, development, bank)</td>\n",
       "      <td>5.566556</td>\n",
       "    </tr>\n",
       "    <tr>\n",
       "      <th>1120</th>\n",
       "      <td>(ace, development, bank)</td>\n",
       "      <td>5.566113</td>\n",
       "    </tr>\n",
       "    <tr>\n",
       "      <th>1131</th>\n",
       "      <td>(bank, international, limited)</td>\n",
       "      <td>5.556665</td>\n",
       "    </tr>\n",
       "    <tr>\n",
       "      <th>1134</th>\n",
       "      <td>(microfinance, development, bank)</td>\n",
       "      <td>5.552670</td>\n",
       "    </tr>\n",
       "    <tr>\n",
       "      <th>1148</th>\n",
       "      <td>(sana, kisan, bikas)</td>\n",
       "      <td>5.477211</td>\n",
       "    </tr>\n",
       "    <tr>\n",
       "      <th>1150</th>\n",
       "      <td>(rastriya, beema, company)</td>\n",
       "      <td>5.477194</td>\n",
       "    </tr>\n",
       "    <tr>\n",
       "      <th>1155</th>\n",
       "      <td>(shares, via, auction)</td>\n",
       "      <td>5.476992</td>\n",
       "    </tr>\n",
       "    <tr>\n",
       "      <th>1172</th>\n",
       "      <td>(infrastructure, development, bank)</td>\n",
       "      <td>5.475622</td>\n",
       "    </tr>\n",
       "    <tr>\n",
       "      <th>1180</th>\n",
       "      <td>(kisan, bikas, bank)</td>\n",
       "      <td>5.474965</td>\n",
       "    </tr>\n",
       "    <tr>\n",
       "      <th>1190</th>\n",
       "      <td>(siddhartha, development, bank)</td>\n",
       "      <td>5.468880</td>\n",
       "    </tr>\n",
       "  </tbody>\n",
       "</table>\n",
       "<p>117 rows × 2 columns</p>\n",
       "</div>"
      ],
      "text/plain": [
       "                                  trigram          t\n",
       "8            (quarter, company, analysis)  41.363129\n",
       "110              (muktinath, bikas, bank)  14.931445\n",
       "124           (bonus, share, certificate)  14.247273\n",
       "139           (century, commercial, bank)  13.637708\n",
       "147             (cash, dividend, warrant)  13.341582\n",
       "153            (life, insurance, company)  13.226763\n",
       "167                (units, bonus, shares)  12.761222\n",
       "205                  (jyoti, bikas, bank)  11.830677\n",
       "214                 (units, bonus, share)  11.570803\n",
       "225                  (units, ipo, shares)  11.440001\n",
       "228                   (sewa, bikas, bank)  11.312307\n",
       "230                   (worth, per, share)  11.269110\n",
       "239                (gandaki, bikas, bank)  11.089065\n",
       "240                (icra, nepal, assigns)  11.045320\n",
       "241                 (unit, right, shares)  11.042001\n",
       "242             (rastriya, banijya, bank)  10.954369\n",
       "267                 (garima, bikas, bank)  10.390960\n",
       "274             (laghubitta, bikas, bank)  10.332710\n",
       "275             (units, ordinary, shares)  10.293927\n",
       "286                      (ltp, stood, rs)  10.049489\n",
       "299                   (units, ipo, share)   9.843913\n",
       "308             (units, promoter, shares)   9.744488\n",
       "312           (standard, chartered, bank)   9.643558\n",
       "315                (kailash, bikas, bank)   9.590558\n",
       "326                (units, right, shares)   9.423780\n",
       "332                  (hamro, bikas, bank)   9.326313\n",
       "337             (percent, cash, dividend)   9.164919\n",
       "343       (citizens, bank, international)   8.999500\n",
       "344             (gurans, life, insurance)   8.944168\n",
       "364         (lumbini, general, insurance)   8.717510\n",
       "...                                   ...        ...\n",
       "857               (mahakali, bikas, bank)   6.163638\n",
       "858          (life, insurance, companies)   6.163486\n",
       "881             (city, development, bank)   6.081063\n",
       "890              (bikas, bank, announces)   6.076703\n",
       "913                  (reports, net, loss)   5.999496\n",
       "915            (units, auctioned, shares)   5.998264\n",
       "934               (nirdhan, utthan, bank)   5.916024\n",
       "941            (civic, development, bank)   5.915497\n",
       "942           (gurkha, development, bank)   5.915206\n",
       "952           (energy, development, bank)   5.913278\n",
       "976                (insurance, co., ltd.)   5.830804\n",
       "983                 (diyalo, bikas, bank)   5.830228\n",
       "985             (biratlaxmi, bikas, bank)   5.830115\n",
       "987          (karnali, development, bank)   5.829629\n",
       "1016             (bank, signs, agreement)   5.744159\n",
       "1019            (unit, auctioned, shares)   5.743863\n",
       "1068          (alpine, development, bank)   5.655911\n",
       "1092                   (bank, agm, today)   5.615114\n",
       "1097                (assigns, ipo, grade)   5.567733\n",
       "1098                 (offer, ends, today)   5.567615\n",
       "1117               (b, development, bank)   5.566556\n",
       "1120             (ace, development, bank)   5.566113\n",
       "1131       (bank, international, limited)   5.556665\n",
       "1134    (microfinance, development, bank)   5.552670\n",
       "1148                 (sana, kisan, bikas)   5.477211\n",
       "1150           (rastriya, beema, company)   5.477194\n",
       "1155               (shares, via, auction)   5.476992\n",
       "1172  (infrastructure, development, bank)   5.475622\n",
       "1180                 (kisan, bikas, bank)   5.474965\n",
       "1190      (siddhartha, development, bank)   5.468880\n",
       "\n",
       "[117 rows x 2 columns]"
      ]
     },
     "execution_count": 13,
     "metadata": {},
     "output_type": "execute_result"
    }
   ],
   "source": [
    "filteredT_tri"
   ]
  },
  {
   "cell_type": "code",
   "execution_count": 14,
   "metadata": {},
   "outputs": [],
   "source": [
    "data_trigram = filteredT_tri[[\"trigram\", \"t\"]].to_numpy()\n",
    "\n",
    "def apply_trigram(list_tokens):\n",
    "    for trigram, _ in data_trigram:\n",
    "        while(trigram[0] in list_tokens[:-2]):\n",
    "            index = list_tokens[:-2].index(trigram[0])\n",
    "            if (trigram[1] == list_tokens[index+1]) and (trigram[2] == list_tokens[index+2]):\n",
    "                list_tokens[index:index+3] = ['_'.join(trigram)]\n",
    "            else:\n",
    "                break\n",
    "    return list_tokens\n",
    "    "
   ]
  },
  {
   "cell_type": "code",
   "execution_count": 15,
   "metadata": {},
   "outputs": [],
   "source": [
    "data_bigram = filteredT_bi[[\"bigram\", \"t\"]].to_numpy()\n",
    "\n",
    "def apply_bigram(list_tokens):\n",
    "    for bigram, _ in data_bigram:\n",
    "        while(bigram[0] in list_tokens[:-1]):\n",
    "            index = list_tokens[:-1].index(bigram[0])\n",
    "            if (bigram[1] == list_tokens[index+1]):\n",
    "                list_tokens[index:index+2] = ['_'.join(bigram)]\n",
    "            else:\n",
    "                break\n",
    "    \n",
    "    return list_tokens"
   ]
  },
  {
   "cell_type": "code",
   "execution_count": 18,
   "metadata": {},
   "outputs": [],
   "source": [
    "df.news = df.news.apply(nltk.tokenize.word_tokenize).apply(apply_trigram).apply(apply_bigram)"
   ]
  },
  {
   "cell_type": "code",
   "execution_count": 20,
   "metadata": {},
   "outputs": [],
   "source": [
    "df.to_csv(\"processed_data.csv\")"
   ]
  },
  {
   "cell_type": "code",
   "execution_count": 16,
   "metadata": {},
   "outputs": [],
   "source": [
    "# big data need streamer (iterator)\n",
    "class ProcessedCorpus:\n",
    "    def __init__(self):\n",
    "        self.data = processed_df.to_list()\n",
    "    \n",
    "    def __len__(self):\n",
    "        return len(self.data)\n",
    "    \n",
    "    def __iter__(self):\n",
    "        for sent in self.data:\n",
    "            yield sent"
   ]
  },
  {
   "cell_type": "code",
   "execution_count": 17,
   "metadata": {},
   "outputs": [
    {
     "name": "stdout",
     "output_type": "stream",
     "text": [
      "['market', 'gains', 'minimum', 'points', 'after', 'losing', 'for', 'five', 'consecutive', 'days', ';', 'three', 'hydropower', 'companies', 'hit', 'the', 'circuit', 'today', ',']\n"
     ]
    }
   ],
   "source": [
    "dats = ProcessedCorpus()\n",
    "for x in dats:\n",
    "    print(x)\n",
    "    break"
   ]
  },
  {
   "cell_type": "code",
   "execution_count": 18,
   "metadata": {},
   "outputs": [],
   "source": [
    "FastText = gensim.models.FastText\n",
    "model = FastText(size=100, window=5, min_count=10) "
   ]
  },
  {
   "cell_type": "code",
   "execution_count": 19,
   "metadata": {},
   "outputs": [],
   "source": [
    "model.build_vocab(sentences=ProcessedCorpus())"
   ]
  },
  {
   "cell_type": "code",
   "execution_count": 20,
   "metadata": {},
   "outputs": [],
   "source": [
    "model.train(sentences=ProcessedCorpus(), total_examples=len(ProcessedCorpus()), epochs=10) "
   ]
  },
  {
   "cell_type": "code",
   "execution_count": 21,
   "metadata": {},
   "outputs": [
    {
     "name": "stderr",
     "output_type": "stream",
     "text": [
      "/usr/lib/python3.7/site-packages/ipykernel_launcher.py:1: DeprecationWarning: Call to deprecated `most_similar` (Method will be removed in 4.0.0, use self.wv.most_similar() instead).\n",
      "  \"\"\"Entry point for launching an IPython kernel.\n"
     ]
    },
    {
     "data": {
      "text/plain": [
       "[('interbank', 0.9140117764472961),\n",
       " ('banker', 0.8847012519836426),\n",
       " ('ncc_bank', 0.8717657327651978),\n",
       " ('kumari_bank', 0.8648148775100708),\n",
       " ('mega_bank', 0.86028653383255),\n",
       " ('dev_bank', 0.8579362034797668),\n",
       " ('sunrise_bank', 0.8531262874603271),\n",
       " ('civil_bank', 0.8512514233589172),\n",
       " ('janata_bank', 0.8461079597473145),\n",
       " ('nmb_bank', 0.84540855884552)]"
      ]
     },
     "execution_count": 21,
     "metadata": {},
     "output_type": "execute_result"
    }
   ],
   "source": [
    "model.most_similar('bank')"
   ]
  },
  {
   "cell_type": "code",
   "execution_count": 22,
   "metadata": {},
   "outputs": [
    {
     "name": "stderr",
     "output_type": "stream",
     "text": [
      "/usr/lib/python3.7/site-packages/ipykernel_launcher.py:1: DeprecationWarning: Call to deprecated `most_similar` (Method will be removed in 4.0.0, use self.wv.most_similar() instead).\n",
      "  \"\"\"Entry point for launching an IPython kernel.\n"
     ]
    },
    {
     "data": {
      "text/plain": [
       "[('nmb_bank', 0.9636020660400391),\n",
       " ('siddhartha_bank', 0.9598978757858276),\n",
       " ('civil_bank', 0.9579761028289795),\n",
       " ('laxmi_bank', 0.954574465751648),\n",
       " ('sanima_bank', 0.9541477560997009),\n",
       " ('ncc_bank', 0.9526793956756592),\n",
       " ('citizens_bank', 0.9514545798301697),\n",
       " ('everest_bank', 0.950179398059845),\n",
       " ('sunrise_bank', 0.949787437915802),\n",
       " ('kumari_bank', 0.9475828409194946)]"
      ]
     },
     "execution_count": 22,
     "metadata": {},
     "output_type": "execute_result"
    }
   ],
   "source": [
    "model.most_similar('nabil_bank')"
   ]
  },
  {
   "cell_type": "code",
   "execution_count": 23,
   "metadata": {},
   "outputs": [],
   "source": [
    "model.wv.save(\"model\")"
   ]
  },
  {
   "cell_type": "code",
   "execution_count": 25,
   "metadata": {},
   "outputs": [
    {
     "ename": "TypeError",
     "evalue": "'numpy.ndarray' object is not callable",
     "output_type": "error",
     "traceback": [
      "\u001b[0;31m---------------------------------------------------------------------------\u001b[0m",
      "\u001b[0;31mTypeError\u001b[0m                                 Traceback (most recent call last)",
      "\u001b[0;32m<ipython-input-25-45a645ca26d2>\u001b[0m in \u001b[0;36m<module>\u001b[0;34m\u001b[0m\n\u001b[0;32m----> 1\u001b[0;31m \u001b[0mmodel\u001b[0m\u001b[0;34m.\u001b[0m\u001b[0mwv\u001b[0m\u001b[0;34m.\u001b[0m\u001b[0mvectors\u001b[0m\u001b[0;34m(\u001b[0m\u001b[0;34m\"nepal\"\u001b[0m\u001b[0;34m)\u001b[0m\u001b[0;34m\u001b[0m\u001b[0;34m\u001b[0m\u001b[0m\n\u001b[0m",
      "\u001b[0;31mTypeError\u001b[0m: 'numpy.ndarray' object is not callable"
     ]
    }
   ],
   "source": []
  },
  {
   "cell_type": "code",
   "execution_count": null,
   "metadata": {},
   "outputs": [],
   "source": []
  }
 ],
 "metadata": {
  "kernelspec": {
   "display_name": "Python 3",
   "language": "python",
   "name": "python3"
  },
  "language_info": {
   "codemirror_mode": {
    "name": "ipython",
    "version": 3
   },
   "file_extension": ".py",
   "mimetype": "text/x-python",
   "name": "python",
   "nbconvert_exporter": "python",
   "pygments_lexer": "ipython3",
   "version": "3.7.3"
  }
 },
 "nbformat": 4,
 "nbformat_minor": 2
}
